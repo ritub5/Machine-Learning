{
 "cells": [
  {
   "cell_type": "markdown",
   "metadata": {
    "id": "EBsBqVaO4Bm7"
   },
   "source": [
    "# Importing libraries\n"
   ]
  },
  {
   "cell_type": "code",
   "execution_count": 1,
   "metadata": {
    "id": "rdwM1onk4Bm8"
   },
   "outputs": [],
   "source": [
    "import numpy as np\n",
    "import matplotlib.pyplot as plt\n",
    "import pandas as pd\n",
    "import seaborn as sns\n",
    "from pandas_profiling import ProfileReport\n",
    "from sklearn.preprocessing import LabelEncoder\n",
    "from sklearn.tree import DecisionTreeClassifier\n",
    "from sklearn.ensemble import AdaBoostClassifier\n",
    "from sklearn.ensemble import RandomForestClassifier\n",
    "from sklearn.ensemble import GradientBoostingClassifier\n",
    "from sklearn.linear_model import LogisticRegression\n",
    "from sklearn.ensemble import BaggingClassifier\n",
    "from sklearn.neighbors import KNeighborsClassifier\n",
    "from sklearn.pipeline import make_pipeline\n",
    "from sklearn.preprocessing import StandardScaler\n",
    "from sklearn.svm import SVC\n",
    "from sklearn.naive_bayes import GaussianNB\n",
    "from sklearn.model_selection import train_test_split\n",
    "from sklearn.metrics import accuracy_score\n",
    "from sklearn import tree\n",
    "from sklearn.metrics import classification_report,confusion_matrix\n",
    "from collections import Counter\n",
    "from sklearn.model_selection import KFold\n",
    "from sklearn.model_selection import GridSearchCV\n",
    "from sklearn.compose import ColumnTransformer\n",
    "from sklearn.preprocessing import OneHotEncoder\n",
    "from sklearn.metrics import f1_score\n",
    "from sklearn.metrics import r2_score\n",
    "from sklearn.metrics import roc_curve, auc\n",
    "from sklearn.model_selection import StratifiedKFold\n",
    "import warnings"
   ]
  },
  {
   "cell_type": "markdown",
   "metadata": {
    "id": "HNvU73ZX4Bm9"
   },
   "source": [
    "# Importing dataset"
   ]
  },
  {
   "cell_type": "code",
   "execution_count": 2,
   "metadata": {
    "id": "6KL-MEO14Bm9"
   },
   "outputs": [],
   "source": [
    "dataset = pd.read_csv('Loan.csv')"
   ]
  },
  {
   "cell_type": "code",
   "execution_count": 3,
   "metadata": {
    "colab": {
     "base_uri": "https://localhost:8080/"
    },
    "id": "31pK5pGN4Bm9",
    "outputId": "108adf90-be5c-4960-b6ee-cd2196ad8209"
   },
   "outputs": [
    {
     "name": "stdout",
     "output_type": "stream",
     "text": [
      "<class 'pandas.core.frame.DataFrame'>\n",
      "RangeIndex: 614 entries, 0 to 613\n",
      "Data columns (total 13 columns):\n",
      " #   Column             Non-Null Count  Dtype  \n",
      "---  ------             --------------  -----  \n",
      " 0   Loan_ID            614 non-null    object \n",
      " 1   Gender             601 non-null    object \n",
      " 2   Married            611 non-null    object \n",
      " 3   Dependents         599 non-null    float64\n",
      " 4   Education          614 non-null    object \n",
      " 5   Self_Employed      582 non-null    object \n",
      " 6   ApplicantIncome    614 non-null    int64  \n",
      " 7   CoapplicantIncome  614 non-null    float64\n",
      " 8   LoanAmount         592 non-null    float64\n",
      " 9   Loan_Amount_Term   600 non-null    float64\n",
      " 10  Credit_History     564 non-null    float64\n",
      " 11  Property_Area      614 non-null    object \n",
      " 12  Loan_Status        614 non-null    object \n",
      "dtypes: float64(5), int64(1), object(7)\n",
      "memory usage: 62.5+ KB\n"
     ]
    }
   ],
   "source": [
    "dataset.info()"
   ]
  },
  {
   "cell_type": "code",
   "execution_count": 4,
   "metadata": {
    "colab": {
     "base_uri": "https://localhost:8080/",
     "height": 300
    },
    "id": "dALdHKabcSyc",
    "outputId": "0dd772bc-47b4-46ad-a05f-7720b9f81db9"
   },
   "outputs": [
    {
     "data": {
      "text/html": [
       "<div>\n",
       "<style scoped>\n",
       "    .dataframe tbody tr th:only-of-type {\n",
       "        vertical-align: middle;\n",
       "    }\n",
       "\n",
       "    .dataframe tbody tr th {\n",
       "        vertical-align: top;\n",
       "    }\n",
       "\n",
       "    .dataframe thead th {\n",
       "        text-align: right;\n",
       "    }\n",
       "</style>\n",
       "<table border=\"1\" class=\"dataframe\">\n",
       "  <thead>\n",
       "    <tr style=\"text-align: right;\">\n",
       "      <th></th>\n",
       "      <th>Dependents</th>\n",
       "      <th>ApplicantIncome</th>\n",
       "      <th>CoapplicantIncome</th>\n",
       "      <th>LoanAmount</th>\n",
       "      <th>Loan_Amount_Term</th>\n",
       "      <th>Credit_History</th>\n",
       "    </tr>\n",
       "  </thead>\n",
       "  <tbody>\n",
       "    <tr>\n",
       "      <th>count</th>\n",
       "      <td>599.000000</td>\n",
       "      <td>614.000000</td>\n",
       "      <td>614.000000</td>\n",
       "      <td>592.000000</td>\n",
       "      <td>600.00000</td>\n",
       "      <td>564.000000</td>\n",
       "    </tr>\n",
       "    <tr>\n",
       "      <th>mean</th>\n",
       "      <td>0.762938</td>\n",
       "      <td>5403.459283</td>\n",
       "      <td>1621.245603</td>\n",
       "      <td>146.412162</td>\n",
       "      <td>342.00000</td>\n",
       "      <td>0.842199</td>\n",
       "    </tr>\n",
       "    <tr>\n",
       "      <th>std</th>\n",
       "      <td>1.015216</td>\n",
       "      <td>6109.041673</td>\n",
       "      <td>2926.248477</td>\n",
       "      <td>85.587325</td>\n",
       "      <td>65.12041</td>\n",
       "      <td>0.364878</td>\n",
       "    </tr>\n",
       "    <tr>\n",
       "      <th>min</th>\n",
       "      <td>0.000000</td>\n",
       "      <td>150.000000</td>\n",
       "      <td>0.000000</td>\n",
       "      <td>9.000000</td>\n",
       "      <td>12.00000</td>\n",
       "      <td>0.000000</td>\n",
       "    </tr>\n",
       "    <tr>\n",
       "      <th>25%</th>\n",
       "      <td>0.000000</td>\n",
       "      <td>2877.500000</td>\n",
       "      <td>0.000000</td>\n",
       "      <td>100.000000</td>\n",
       "      <td>360.00000</td>\n",
       "      <td>1.000000</td>\n",
       "    </tr>\n",
       "    <tr>\n",
       "      <th>50%</th>\n",
       "      <td>0.000000</td>\n",
       "      <td>3812.500000</td>\n",
       "      <td>1188.500000</td>\n",
       "      <td>128.000000</td>\n",
       "      <td>360.00000</td>\n",
       "      <td>1.000000</td>\n",
       "    </tr>\n",
       "    <tr>\n",
       "      <th>75%</th>\n",
       "      <td>2.000000</td>\n",
       "      <td>5795.000000</td>\n",
       "      <td>2297.250000</td>\n",
       "      <td>168.000000</td>\n",
       "      <td>360.00000</td>\n",
       "      <td>1.000000</td>\n",
       "    </tr>\n",
       "    <tr>\n",
       "      <th>max</th>\n",
       "      <td>3.000000</td>\n",
       "      <td>81000.000000</td>\n",
       "      <td>41667.000000</td>\n",
       "      <td>700.000000</td>\n",
       "      <td>480.00000</td>\n",
       "      <td>1.000000</td>\n",
       "    </tr>\n",
       "  </tbody>\n",
       "</table>\n",
       "</div>"
      ],
      "text/plain": [
       "       Dependents  ApplicantIncome  CoapplicantIncome  LoanAmount  \\\n",
       "count  599.000000       614.000000         614.000000  592.000000   \n",
       "mean     0.762938      5403.459283        1621.245603  146.412162   \n",
       "std      1.015216      6109.041673        2926.248477   85.587325   \n",
       "min      0.000000       150.000000           0.000000    9.000000   \n",
       "25%      0.000000      2877.500000           0.000000  100.000000   \n",
       "50%      0.000000      3812.500000        1188.500000  128.000000   \n",
       "75%      2.000000      5795.000000        2297.250000  168.000000   \n",
       "max      3.000000     81000.000000       41667.000000  700.000000   \n",
       "\n",
       "       Loan_Amount_Term  Credit_History  \n",
       "count         600.00000      564.000000  \n",
       "mean          342.00000        0.842199  \n",
       "std            65.12041        0.364878  \n",
       "min            12.00000        0.000000  \n",
       "25%           360.00000        1.000000  \n",
       "50%           360.00000        1.000000  \n",
       "75%           360.00000        1.000000  \n",
       "max           480.00000        1.000000  "
      ]
     },
     "execution_count": 4,
     "metadata": {},
     "output_type": "execute_result"
    }
   ],
   "source": [
    "dataset.describe()"
   ]
  },
  {
   "cell_type": "code",
   "execution_count": 5,
   "metadata": {
    "colab": {
     "base_uri": "https://localhost:8080/",
     "height": 243
    },
    "id": "2de6Byzzgsnu",
    "outputId": "a4d4656f-f3ff-4692-9efe-d2f0c3c4b75c"
   },
   "outputs": [
    {
     "data": {
      "text/html": [
       "<div>\n",
       "<style scoped>\n",
       "    .dataframe tbody tr th:only-of-type {\n",
       "        vertical-align: middle;\n",
       "    }\n",
       "\n",
       "    .dataframe tbody tr th {\n",
       "        vertical-align: top;\n",
       "    }\n",
       "\n",
       "    .dataframe thead th {\n",
       "        text-align: right;\n",
       "    }\n",
       "</style>\n",
       "<table border=\"1\" class=\"dataframe\">\n",
       "  <thead>\n",
       "    <tr style=\"text-align: right;\">\n",
       "      <th></th>\n",
       "      <th>Loan_ID</th>\n",
       "      <th>Gender</th>\n",
       "      <th>Married</th>\n",
       "      <th>Dependents</th>\n",
       "      <th>Education</th>\n",
       "      <th>Self_Employed</th>\n",
       "      <th>ApplicantIncome</th>\n",
       "      <th>CoapplicantIncome</th>\n",
       "      <th>LoanAmount</th>\n",
       "      <th>Loan_Amount_Term</th>\n",
       "      <th>Credit_History</th>\n",
       "      <th>Property_Area</th>\n",
       "      <th>Loan_Status</th>\n",
       "    </tr>\n",
       "  </thead>\n",
       "  <tbody>\n",
       "    <tr>\n",
       "      <th>0</th>\n",
       "      <td>LP001002</td>\n",
       "      <td>Male</td>\n",
       "      <td>No</td>\n",
       "      <td>0.0</td>\n",
       "      <td>Graduate</td>\n",
       "      <td>No</td>\n",
       "      <td>5849</td>\n",
       "      <td>0.0</td>\n",
       "      <td>NaN</td>\n",
       "      <td>360.0</td>\n",
       "      <td>1.0</td>\n",
       "      <td>Urban</td>\n",
       "      <td>Y</td>\n",
       "    </tr>\n",
       "    <tr>\n",
       "      <th>1</th>\n",
       "      <td>LP001003</td>\n",
       "      <td>Male</td>\n",
       "      <td>Yes</td>\n",
       "      <td>1.0</td>\n",
       "      <td>Graduate</td>\n",
       "      <td>No</td>\n",
       "      <td>4583</td>\n",
       "      <td>1508.0</td>\n",
       "      <td>128.0</td>\n",
       "      <td>360.0</td>\n",
       "      <td>1.0</td>\n",
       "      <td>Rural</td>\n",
       "      <td>N</td>\n",
       "    </tr>\n",
       "    <tr>\n",
       "      <th>2</th>\n",
       "      <td>LP001005</td>\n",
       "      <td>Male</td>\n",
       "      <td>Yes</td>\n",
       "      <td>0.0</td>\n",
       "      <td>Graduate</td>\n",
       "      <td>Yes</td>\n",
       "      <td>3000</td>\n",
       "      <td>0.0</td>\n",
       "      <td>66.0</td>\n",
       "      <td>360.0</td>\n",
       "      <td>1.0</td>\n",
       "      <td>Urban</td>\n",
       "      <td>Y</td>\n",
       "    </tr>\n",
       "    <tr>\n",
       "      <th>3</th>\n",
       "      <td>LP001006</td>\n",
       "      <td>Male</td>\n",
       "      <td>Yes</td>\n",
       "      <td>0.0</td>\n",
       "      <td>Not Graduate</td>\n",
       "      <td>No</td>\n",
       "      <td>2583</td>\n",
       "      <td>2358.0</td>\n",
       "      <td>120.0</td>\n",
       "      <td>360.0</td>\n",
       "      <td>1.0</td>\n",
       "      <td>Urban</td>\n",
       "      <td>Y</td>\n",
       "    </tr>\n",
       "    <tr>\n",
       "      <th>4</th>\n",
       "      <td>LP001008</td>\n",
       "      <td>Male</td>\n",
       "      <td>No</td>\n",
       "      <td>0.0</td>\n",
       "      <td>Graduate</td>\n",
       "      <td>No</td>\n",
       "      <td>6000</td>\n",
       "      <td>0.0</td>\n",
       "      <td>141.0</td>\n",
       "      <td>360.0</td>\n",
       "      <td>1.0</td>\n",
       "      <td>Urban</td>\n",
       "      <td>Y</td>\n",
       "    </tr>\n",
       "  </tbody>\n",
       "</table>\n",
       "</div>"
      ],
      "text/plain": [
       "    Loan_ID Gender Married  Dependents     Education Self_Employed  \\\n",
       "0  LP001002   Male      No         0.0      Graduate            No   \n",
       "1  LP001003   Male     Yes         1.0      Graduate            No   \n",
       "2  LP001005   Male     Yes         0.0      Graduate           Yes   \n",
       "3  LP001006   Male     Yes         0.0  Not Graduate            No   \n",
       "4  LP001008   Male      No         0.0      Graduate            No   \n",
       "\n",
       "   ApplicantIncome  CoapplicantIncome  LoanAmount  Loan_Amount_Term  \\\n",
       "0             5849                0.0         NaN             360.0   \n",
       "1             4583             1508.0       128.0             360.0   \n",
       "2             3000                0.0        66.0             360.0   \n",
       "3             2583             2358.0       120.0             360.0   \n",
       "4             6000                0.0       141.0             360.0   \n",
       "\n",
       "   Credit_History Property_Area Loan_Status  \n",
       "0             1.0         Urban           Y  \n",
       "1             1.0         Rural           N  \n",
       "2             1.0         Urban           Y  \n",
       "3             1.0         Urban           Y  \n",
       "4             1.0         Urban           Y  "
      ]
     },
     "execution_count": 5,
     "metadata": {},
     "output_type": "execute_result"
    }
   ],
   "source": [
    "dataset.head()"
   ]
  },
  {
   "cell_type": "markdown",
   "metadata": {
    "id": "8H9Z69s-cbqb"
   },
   "source": [
    "# Data Exploration\n"
   ]
  },
  {
   "cell_type": "markdown",
   "metadata": {
    "id": "3Xx7t1oDWVX6"
   },
   "source": [
    "## Entropy and Information Gain Calculation"
   ]
  },
  {
   "cell_type": "code",
   "execution_count": 6,
   "metadata": {
    "id": "ZcN7YFzN5TzY"
   },
   "outputs": [],
   "source": [
    "from math import log\n",
    "##################entropy related calculations###########################\n",
    "def calculate_entropy(df, target_label, partition = None):  \n",
    "    \"\"\"\n",
    "    df: data frame\n",
    "    target_label: target col to calculate entropy \n",
    "    \"\"\"\n",
    "    col = df[target_label]\n",
    "    if partition is not None: #partition by feature column\n",
    "        col = df[df[partition[0]] == partition[1]][target_label]\n",
    "        \n",
    "    total = len(col)\n",
    "    value,counts = np.unique(col , return_counts=True)  \n",
    "    prob = counts / total\n",
    "    entropy = 0\n",
    "    for i in prob: \n",
    "        entropy -= i * log(i, 2)\n",
    "    \n",
    "    return entropy\n",
    "\n",
    "def calculate_remainder(df, target_label, partition_by_class = None, class_condition = None):     \n",
    "    rem = 0\n",
    "    if partition_by_class is not None:\n",
    "        rem_col = df[partition_by_class]\n",
    "   \n",
    "    total = len(rem_col)\n",
    "    value,counts = np.unique(rem_col , return_counts=True)  \n",
    "    entropy = []\n",
    "    for i in value:\n",
    "        entropy.append(calculate_entropy(df, target_label, partition = (partition_by_class, i)))\n",
    "        \n",
    "    for i,v in enumerate(entropy):\n",
    "        rem += (counts[i]/total) * entropy[i]\n",
    "\n",
    "    return rem\n",
    "\n",
    "\n",
    "def information_gain_with_entropy(df, target_label, partition_by_class = None):\n",
    "    \"\"\"\n",
    "    IG(d, D) = H(t, D) - rem(d, D)\n",
    "    \"\"\"\n",
    "    return calculate_entropy(df, target_label) - calculate_remainder(df, target_label, partition_by_class = partition_by_class)\n",
    "\n",
    "def information_gain_ratio_with_entropy(df, target_label, partition_by_class = None):\n",
    "      return information_gain_with_entropy(df, target_label, partition_by_class) / calculate_entropy(df, partition_by_class)\n"
   ]
  },
  {
   "cell_type": "code",
   "execution_count": 7,
   "metadata": {
    "colab": {
     "base_uri": "https://localhost:8080/"
    },
    "id": "7qQacDT-5Tzs",
    "outputId": "9b8fdd31-541f-4a57-a1db-06eabb03410d"
   },
   "outputs": [
    {
     "name": "stdout",
     "output_type": "stream",
     "text": [
      "entropy Loan_ID: 9.262\n",
      "IG Loan_ID: 0.8963\n"
     ]
    }
   ],
   "source": [
    "print(f\"entropy {'Loan_ID'}: {calculate_entropy(dataset, 'Loan_ID' ):.4}\")\n",
    "print(f\"IG {'Loan_ID'}: {information_gain_with_entropy(dataset, 'Loan_Status', 'Loan_ID' ):.4}\")"
   ]
  },
  {
   "cell_type": "code",
   "execution_count": 8,
   "metadata": {
    "id": "BCy-9OJOXPbT"
   },
   "outputs": [],
   "source": [
    "# Not taking load id as it will not impact loan \n",
    "dataset = dataset.drop(columns=[\"Loan_ID\"])"
   ]
  },
  {
   "cell_type": "markdown",
   "metadata": {
    "id": "oYREnILZTSPw"
   },
   "source": [
    "The information gain for identification attributes will have highest information gain.\n",
    "This can be seen for Loan_ID which has the highest information.\n",
    "However, still we will remove this column in exploration part as this will not affect target feature. "
   ]
  },
  {
   "cell_type": "markdown",
   "metadata": {
    "id": "Soz3qVAvdDAB"
   },
   "source": [
    "## Categorical Feature Analysis"
   ]
  },
  {
   "cell_type": "code",
   "execution_count": 9,
   "metadata": {
    "colab": {
     "base_uri": "https://localhost:8080/"
    },
    "id": "1_8s3rEzejWJ",
    "outputId": "e64c3037-3026-40e4-b474-3bbc588ab983"
   },
   "outputs": [
    {
     "data": {
      "text/plain": [
       "['Gender',\n",
       " 'Married',\n",
       " 'Dependents',\n",
       " 'Education',\n",
       " 'Self_Employed',\n",
       " 'Credit_History',\n",
       " 'Property_Area',\n",
       " 'Loan_Status']"
      ]
     },
     "execution_count": 9,
     "metadata": {},
     "output_type": "execute_result"
    }
   ],
   "source": [
    "#separating categorical and numerical features\n",
    "categorical_features = [i for i in dataset.columns if dataset[i].nunique()<5]\n",
    "categorical_features"
   ]
  },
  {
   "cell_type": "markdown",
   "metadata": {
    "id": "WZu_voqDyp3B"
   },
   "source": [
    "## Categorical data quality report (Before Cleaning)\n",
    "\n"
   ]
  },
  {
   "cell_type": "code",
   "execution_count": 10,
   "metadata": {
    "id": "Q9GsF9Quy0ib"
   },
   "outputs": [],
   "source": [
    "def get_categorical_abt_table (dataset_df, categorical_features): \n",
    "  cat_feature_arr = categorical_features\n",
    "  cat_total_array = [''] *  len(cat_feature_arr)\n",
    "  cat_non_nan_array  = [''] * len(cat_feature_arr)\n",
    "  cat_miss_pct_array = [''] *  len(cat_feature_arr)\n",
    "  cat_card_array = [''] * len(cat_feature_arr)\n",
    "  cat_mode_array = [''] *len(cat_feature_arr)\n",
    "  cat_mode_freq = [''] *len(cat_feature_arr)\n",
    "  cat_mode_pct = [''] *len(cat_feature_arr)\n",
    "  cat_2nd_mode_array = [''] *len(cat_feature_arr)\n",
    "  cat_2nd_mode_freq = [''] *len(cat_feature_arr)\n",
    "  cat_2nd_mode_pct = [''] *len(cat_feature_arr)\n",
    "\n",
    "  for k, v in enumerate(categorical_features):\n",
    "    cat_total_array[k] = dataset_df.shape[0] if len(dataset_df.shape)>0 else ''\n",
    "    cat_non_nan_array[k] = dataset_df[v].count()\n",
    "    cat_miss_pct_array[k] = 100 * ((dataset_df.shape[0] - dataset_df[v].count())/dataset_df.shape[0]) if len(dataset_df.shape)>0 else ''\n",
    "    cat_card_array[k] = len(pd.unique(dataset_df[v])) \n",
    "  \n",
    "    cat_mode_array[k]= Counter(dataset_df[v]).most_common()[0][0] if len(Counter(dataset_df[v]).most_common()) >0 else ''\n",
    "    cat_mode_freq[k]= Counter(dataset_df[v]).most_common()[0][1] if len(Counter(dataset_df[v]).most_common()) >0 else ''\n",
    "    cat_mode_pct[k] = 100* (Counter(dataset_df[v]).most_common()[0][1]/dataset_df.shape[0]) if len(Counter(dataset_df[v]).most_common()) >0 else ''\n",
    "  \n",
    "    cat_2nd_mode_array[k]= Counter(dataset_df[v]).most_common()[1][0] if len(Counter(dataset_df[v]).most_common())>1 else ''\n",
    "    cat_2nd_mode_freq[k]= Counter(dataset_df[v]).most_common()[1][1] if len(Counter(dataset_df[v]).most_common())>1 else ''\n",
    "    cat_2nd_mode_pct[k] = 100* (Counter(dataset_df[v]).most_common()[1][1]/dataset_df.shape[0]) if len(Counter(dataset_df[v]).most_common())>1 else ''\n",
    "\n",
    "  cat_data = {'Categorical Feature':cat_feature_arr,\\\n",
    "          'total':cat_total_array,\\\n",
    "          'count':cat_non_nan_array,\\\n",
    "          'miss%':cat_miss_pct_array,\\\n",
    "          'card':cat_card_array,\\\n",
    "          'mode':cat_mode_array,\\\n",
    "          'mode freq':cat_mode_freq,\\\n",
    "          'mode pct':cat_mode_pct,\\\n",
    "          '2nd mode':cat_2nd_mode_array,\\\n",
    "          '2nd mode freq':cat_2nd_mode_freq,\\\n",
    "          '2nd mode pct':cat_2nd_mode_pct\n",
    "              \n",
    "        }\n",
    "  cat_data = pd.DataFrame(cat_data)     \n",
    "  return cat_data"
   ]
  },
  {
   "cell_type": "code",
   "execution_count": 11,
   "metadata": {
    "colab": {
     "base_uri": "https://localhost:8080/",
     "height": 300
    },
    "id": "98q2KH1N12PQ",
    "outputId": "ecf61102-d522-4dd2-cc5e-363e9fe33613"
   },
   "outputs": [
    {
     "data": {
      "text/html": [
       "<div>\n",
       "<style scoped>\n",
       "    .dataframe tbody tr th:only-of-type {\n",
       "        vertical-align: middle;\n",
       "    }\n",
       "\n",
       "    .dataframe tbody tr th {\n",
       "        vertical-align: top;\n",
       "    }\n",
       "\n",
       "    .dataframe thead th {\n",
       "        text-align: right;\n",
       "    }\n",
       "</style>\n",
       "<table border=\"1\" class=\"dataframe\">\n",
       "  <thead>\n",
       "    <tr style=\"text-align: right;\">\n",
       "      <th></th>\n",
       "      <th>Categorical Feature</th>\n",
       "      <th>total</th>\n",
       "      <th>count</th>\n",
       "      <th>miss%</th>\n",
       "      <th>card</th>\n",
       "      <th>mode</th>\n",
       "      <th>mode freq</th>\n",
       "      <th>mode pct</th>\n",
       "      <th>2nd mode</th>\n",
       "      <th>2nd mode freq</th>\n",
       "      <th>2nd mode pct</th>\n",
       "    </tr>\n",
       "  </thead>\n",
       "  <tbody>\n",
       "    <tr>\n",
       "      <th>0</th>\n",
       "      <td>Gender</td>\n",
       "      <td>614</td>\n",
       "      <td>601</td>\n",
       "      <td>2.117264</td>\n",
       "      <td>3</td>\n",
       "      <td>Male</td>\n",
       "      <td>489</td>\n",
       "      <td>79.641694</td>\n",
       "      <td>Female</td>\n",
       "      <td>112</td>\n",
       "      <td>18.241042</td>\n",
       "    </tr>\n",
       "    <tr>\n",
       "      <th>1</th>\n",
       "      <td>Married</td>\n",
       "      <td>614</td>\n",
       "      <td>611</td>\n",
       "      <td>0.488599</td>\n",
       "      <td>3</td>\n",
       "      <td>Yes</td>\n",
       "      <td>398</td>\n",
       "      <td>64.820847</td>\n",
       "      <td>No</td>\n",
       "      <td>213</td>\n",
       "      <td>34.690554</td>\n",
       "    </tr>\n",
       "    <tr>\n",
       "      <th>2</th>\n",
       "      <td>Dependents</td>\n",
       "      <td>614</td>\n",
       "      <td>599</td>\n",
       "      <td>2.442997</td>\n",
       "      <td>5</td>\n",
       "      <td>0</td>\n",
       "      <td>345</td>\n",
       "      <td>56.188925</td>\n",
       "      <td>1</td>\n",
       "      <td>102</td>\n",
       "      <td>16.612378</td>\n",
       "    </tr>\n",
       "    <tr>\n",
       "      <th>3</th>\n",
       "      <td>Education</td>\n",
       "      <td>614</td>\n",
       "      <td>614</td>\n",
       "      <td>0.000000</td>\n",
       "      <td>2</td>\n",
       "      <td>Graduate</td>\n",
       "      <td>480</td>\n",
       "      <td>78.175896</td>\n",
       "      <td>Not Graduate</td>\n",
       "      <td>134</td>\n",
       "      <td>21.824104</td>\n",
       "    </tr>\n",
       "    <tr>\n",
       "      <th>4</th>\n",
       "      <td>Self_Employed</td>\n",
       "      <td>614</td>\n",
       "      <td>582</td>\n",
       "      <td>5.211726</td>\n",
       "      <td>3</td>\n",
       "      <td>No</td>\n",
       "      <td>500</td>\n",
       "      <td>81.433225</td>\n",
       "      <td>Yes</td>\n",
       "      <td>82</td>\n",
       "      <td>13.355049</td>\n",
       "    </tr>\n",
       "    <tr>\n",
       "      <th>5</th>\n",
       "      <td>Credit_History</td>\n",
       "      <td>614</td>\n",
       "      <td>564</td>\n",
       "      <td>8.143322</td>\n",
       "      <td>3</td>\n",
       "      <td>1</td>\n",
       "      <td>475</td>\n",
       "      <td>77.361564</td>\n",
       "      <td>0</td>\n",
       "      <td>89</td>\n",
       "      <td>14.495114</td>\n",
       "    </tr>\n",
       "    <tr>\n",
       "      <th>6</th>\n",
       "      <td>Property_Area</td>\n",
       "      <td>614</td>\n",
       "      <td>614</td>\n",
       "      <td>0.000000</td>\n",
       "      <td>3</td>\n",
       "      <td>Semiurban</td>\n",
       "      <td>233</td>\n",
       "      <td>37.947883</td>\n",
       "      <td>Urban</td>\n",
       "      <td>202</td>\n",
       "      <td>32.899023</td>\n",
       "    </tr>\n",
       "    <tr>\n",
       "      <th>7</th>\n",
       "      <td>Loan_Status</td>\n",
       "      <td>614</td>\n",
       "      <td>614</td>\n",
       "      <td>0.000000</td>\n",
       "      <td>2</td>\n",
       "      <td>Y</td>\n",
       "      <td>422</td>\n",
       "      <td>68.729642</td>\n",
       "      <td>N</td>\n",
       "      <td>192</td>\n",
       "      <td>31.270358</td>\n",
       "    </tr>\n",
       "  </tbody>\n",
       "</table>\n",
       "</div>"
      ],
      "text/plain": [
       "  Categorical Feature  total  count     miss%  card       mode  mode freq  \\\n",
       "0              Gender    614    601  2.117264     3       Male        489   \n",
       "1             Married    614    611  0.488599     3        Yes        398   \n",
       "2          Dependents    614    599  2.442997     5          0        345   \n",
       "3           Education    614    614  0.000000     2   Graduate        480   \n",
       "4       Self_Employed    614    582  5.211726     3         No        500   \n",
       "5      Credit_History    614    564  8.143322     3          1        475   \n",
       "6       Property_Area    614    614  0.000000     3  Semiurban        233   \n",
       "7         Loan_Status    614    614  0.000000     2          Y        422   \n",
       "\n",
       "    mode pct      2nd mode  2nd mode freq  2nd mode pct  \n",
       "0  79.641694        Female            112     18.241042  \n",
       "1  64.820847            No            213     34.690554  \n",
       "2  56.188925             1            102     16.612378  \n",
       "3  78.175896  Not Graduate            134     21.824104  \n",
       "4  81.433225           Yes             82     13.355049  \n",
       "5  77.361564             0             89     14.495114  \n",
       "6  37.947883         Urban            202     32.899023  \n",
       "7  68.729642             N            192     31.270358  "
      ]
     },
     "execution_count": 11,
     "metadata": {},
     "output_type": "execute_result"
    }
   ],
   "source": [
    "get_categorical_abt_table(dataset, categorical_features)\n"
   ]
  },
  {
   "cell_type": "code",
   "execution_count": 12,
   "metadata": {
    "colab": {
     "base_uri": "https://localhost:8080/",
     "height": 607
    },
    "id": "Z9bQJFi-cVSh",
    "outputId": "47c53c28-1565-4997-da52-afb1f0e213b8"
   },
   "outputs": [
    {
     "data": {
      "image/png": "[encoded data removed]",
      "text/plain": [
       "<Figure size 1152x720 with 8 Axes>"
      ]
     },
     "metadata": {
      "needs_background": "light"
     },
     "output_type": "display_data"
    }
   ],
   "source": [
    "fig,ax = plt.subplots(2,4,figsize=(16,10))\n",
    "sns.countplot(x='Gender',data=dataset, ax=ax[0][0])\n",
    "sns.countplot(x='Married',data=dataset, ax=ax[0][1])\n",
    "sns.countplot(x='Dependents',data=dataset, ax=ax[0][2])\n",
    "sns.countplot(x='Education',data=dataset, ax=ax[0][3])\n",
    "sns.countplot(x='Self_Employed',data=dataset, ax=ax[1][0])\n",
    "sns.countplot(x='Credit_History',data=dataset, ax=ax[1][1])\n",
    "sns.countplot(x='Property_Area',data=dataset, ax=ax[1][2])\n",
    "sns.countplot(x='Loan_Status',data=dataset, ax=ax[1][3])\n",
    "plt.show()"
   ]
  },
  {
   "cell_type": "markdown",
   "metadata": {
    "id": "V0T-a-SDi43I"
   },
   "source": [
    "From above countplot,\n",
    "There are more number of male applicants than female.\n",
    "Most applicants are married.\n",
    "Loan applicants with 0 dependents are more. Applicants with 3 or more dependents are very less.\n",
    "Most applicants are graduate.\n",
    "The dataset has most applicants who are not self employed.\n",
    "Most applicants had good credit history.\n",
    "There are more number of applicant living in semiurban area than urban and rural.\n",
    "\n"
   ]
  },
  {
   "cell_type": "markdown",
   "metadata": {
    "id": "UIIkvnjOdLYf"
   },
   "source": [
    "## Continuous Feature Analysis"
   ]
  },
  {
   "cell_type": "markdown",
   "metadata": {
    "id": "yTa29Xe70Ipv"
   },
   "source": [
    "## Continuous data quality report (before cleaning)\n"
   ]
  },
  {
   "cell_type": "code",
   "execution_count": 13,
   "metadata": {
    "colab": {
     "base_uri": "https://localhost:8080/"
    },
    "id": "BLXvVQVbTBKN",
    "outputId": "9939e44f-f41d-4a87-d5fc-77d24d42cfcd"
   },
   "outputs": [
    {
     "data": {
      "text/plain": [
       "['ApplicantIncome', 'CoapplicantIncome', 'LoanAmount', 'Loan_Amount_Term']"
      ]
     },
     "execution_count": 13,
     "metadata": {},
     "output_type": "execute_result"
    }
   ],
   "source": [
    "continuous_features = [i for i in dataset.columns if dataset[i].nunique()>=5 and i!='Loan_ID']\n",
    "continuous_features"
   ]
  },
  {
   "cell_type": "code",
   "execution_count": 14,
   "metadata": {
    "id": "YqQFGLp20GeC"
   },
   "outputs": [],
   "source": [
    "def get_countinous_abt_table(dataset_df, continuous_features):\n",
    "  feature_arr = continuous_features\n",
    "  total_array = [''] *  len(continuous_features)\n",
    "  non_nan_array  = [''] *  len(continuous_features)\n",
    "  miss_pct_array = [''] *  len(continuous_features)\n",
    "  card_array = [''] *  len(continuous_features)\n",
    "  min_array  = [''] *  len(continuous_features)\n",
    "  max_array = [''] *  len(continuous_features)\n",
    "  qrt_1st_array = [''] *  len(continuous_features)\n",
    "  mean_array = [''] *  len(continuous_features)\n",
    "  median_array  = [''] *  len(continuous_features)\n",
    "  qrt_3rd_array  = [''] *  len(continuous_features)\n",
    "  std_array = [''] *  len(continuous_features)\n",
    "\n",
    "  for k, v in enumerate(continuous_features):\n",
    "      total_array[k] = dataset_df.shape[0]\n",
    "      non_nan_array[k] = dataset_df[v].count()\n",
    "      miss_pct_array[k] = 100 *  ((dataset_df.shape[0] - dataset_df[v].count())/dataset_df.shape[0])\n",
    "      card_array[k] = len(pd.unique(dataset_df[v]))\n",
    "      min_array[k] = min(dataset_df[v])\n",
    "      max_array[k] = max(dataset_df[v])\n",
    "      std_array[k] = np.std(dataset_df[v])\n",
    "      mean_array[k] = np.mean(dataset_df[v])\n",
    "      median_array[k] = np.nanmedian(dataset_df[v])\n",
    "      qrt_1st_array[k] = np.nanquantile(dataset_df[v], .25)\n",
    "      qrt_3rd_array[k] = np.nanquantile(dataset_df[v], .75)\n",
    "      \n",
    "\n",
    "  continous_data = {'Continous Feature':feature_arr,\\\n",
    "          'total':total_array,\\\n",
    "          'count':non_nan_array,\\\n",
    "          'miss%':miss_pct_array,\\\n",
    "          'card':card_array,\\\n",
    "          'min':min_array,\\\n",
    "          '1st qrt':qrt_1st_array,\\\n",
    "          'mean':mean_array,\\\n",
    "          'median':median_array,\\\n",
    "          '3rd qrt':qrt_3rd_array,\\\n",
    "          'max':max_array,\\\n",
    "          'std':std_array,\\\n",
    "        }\n",
    "  continous_data = pd.DataFrame(continous_data)     \n",
    "  return continous_data"
   ]
  },
  {
   "cell_type": "code",
   "execution_count": 15,
   "metadata": {
    "colab": {
     "base_uri": "https://localhost:8080/",
     "height": 174
    },
    "id": "AvwZkmEK2XHH",
    "outputId": "13ff47bd-5b5f-431d-ad66-39d99a38192f"
   },
   "outputs": [
    {
     "data": {
      "text/html": [
       "<div>\n",
       "<style scoped>\n",
       "    .dataframe tbody tr th:only-of-type {\n",
       "        vertical-align: middle;\n",
       "    }\n",
       "\n",
       "    .dataframe tbody tr th {\n",
       "        vertical-align: top;\n",
       "    }\n",
       "\n",
       "    .dataframe thead th {\n",
       "        text-align: right;\n",
       "    }\n",
       "</style>\n",
       "<table border=\"1\" class=\"dataframe\">\n",
       "  <thead>\n",
       "    <tr style=\"text-align: right;\">\n",
       "      <th></th>\n",
       "      <th>Continous Feature</th>\n",
       "      <th>total</th>\n",
       "      <th>count</th>\n",
       "      <th>miss%</th>\n",
       "      <th>card</th>\n",
       "      <th>min</th>\n",
       "      <th>1st qrt</th>\n",
       "      <th>mean</th>\n",
       "      <th>median</th>\n",
       "      <th>3rd qrt</th>\n",
       "      <th>max</th>\n",
       "      <th>std</th>\n",
       "    </tr>\n",
       "  </thead>\n",
       "  <tbody>\n",
       "    <tr>\n",
       "      <th>0</th>\n",
       "      <td>ApplicantIncome</td>\n",
       "      <td>614</td>\n",
       "      <td>614</td>\n",
       "      <td>0.000000</td>\n",
       "      <td>505</td>\n",
       "      <td>150.0</td>\n",
       "      <td>2877.5</td>\n",
       "      <td>5403.459283</td>\n",
       "      <td>3812.5</td>\n",
       "      <td>5795.00</td>\n",
       "      <td>81000.0</td>\n",
       "      <td>6104.064857</td>\n",
       "    </tr>\n",
       "    <tr>\n",
       "      <th>1</th>\n",
       "      <td>CoapplicantIncome</td>\n",
       "      <td>614</td>\n",
       "      <td>614</td>\n",
       "      <td>0.000000</td>\n",
       "      <td>287</td>\n",
       "      <td>0.0</td>\n",
       "      <td>0.0</td>\n",
       "      <td>1621.245603</td>\n",
       "      <td>1188.5</td>\n",
       "      <td>2297.25</td>\n",
       "      <td>41667.0</td>\n",
       "      <td>2923.864567</td>\n",
       "    </tr>\n",
       "    <tr>\n",
       "      <th>2</th>\n",
       "      <td>LoanAmount</td>\n",
       "      <td>614</td>\n",
       "      <td>592</td>\n",
       "      <td>3.583062</td>\n",
       "      <td>204</td>\n",
       "      <td>NaN</td>\n",
       "      <td>100.0</td>\n",
       "      <td>146.412162</td>\n",
       "      <td>128.0</td>\n",
       "      <td>168.00</td>\n",
       "      <td>NaN</td>\n",
       "      <td>85.515008</td>\n",
       "    </tr>\n",
       "    <tr>\n",
       "      <th>3</th>\n",
       "      <td>Loan_Amount_Term</td>\n",
       "      <td>614</td>\n",
       "      <td>600</td>\n",
       "      <td>2.280130</td>\n",
       "      <td>11</td>\n",
       "      <td>12.0</td>\n",
       "      <td>360.0</td>\n",
       "      <td>342.000000</td>\n",
       "      <td>360.0</td>\n",
       "      <td>360.00</td>\n",
       "      <td>480.0</td>\n",
       "      <td>65.066120</td>\n",
       "    </tr>\n",
       "  </tbody>\n",
       "</table>\n",
       "</div>"
      ],
      "text/plain": [
       "   Continous Feature  total  count     miss%  card    min  1st qrt  \\\n",
       "0    ApplicantIncome    614    614  0.000000   505  150.0   2877.5   \n",
       "1  CoapplicantIncome    614    614  0.000000   287    0.0      0.0   \n",
       "2         LoanAmount    614    592  3.583062   204    NaN    100.0   \n",
       "3   Loan_Amount_Term    614    600  2.280130    11   12.0    360.0   \n",
       "\n",
       "          mean  median  3rd qrt      max          std  \n",
       "0  5403.459283  3812.5  5795.00  81000.0  6104.064857  \n",
       "1  1621.245603  1188.5  2297.25  41667.0  2923.864567  \n",
       "2   146.412162   128.0   168.00      NaN    85.515008  \n",
       "3   342.000000   360.0   360.00    480.0    65.066120  "
      ]
     },
     "execution_count": 15,
     "metadata": {},
     "output_type": "execute_result"
    }
   ],
   "source": [
    "get_countinous_abt_table(dataset, continuous_features)"
   ]
  },
  {
   "cell_type": "markdown",
   "metadata": {},
   "source": [
    "We can see missing values in LoanAmount and Loan_Amount_Term in above table."
   ]
  },
  {
   "cell_type": "code",
   "execution_count": 16,
   "metadata": {
    "colab": {
     "base_uri": "https://localhost:8080/",
     "height": 608
    },
    "id": "M5NLCYafc5BX",
    "outputId": "e04cd6d7-b78f-4fdd-e9b1-746905f2b19f"
   },
   "outputs": [
    {
     "data": {
      "image/png": "[encoded data removed]",
      "text/plain": [
       "<Figure size 1152x720 with 4 Axes>"
      ]
     },
     "metadata": {
      "needs_background": "light"
     },
     "output_type": "display_data"
    }
   ],
   "source": [
    "fig, ax = plt.subplots(2,2,figsize=(16,10))\n",
    "sns.histplot(dataset['ApplicantIncome'],kde=True, ax=ax[0, 0])\n",
    "sns.histplot(dataset['CoapplicantIncome'],kde=True, ax=ax[0, 1])\n",
    "sns.histplot(dataset['LoanAmount'],kde=True, ax=ax[1, 0])\n",
    "sns.histplot(dataset['Loan_Amount_Term'],kde=True, ax=ax[1, 1])\n",
    "plt.show()"
   ]
  },
  {
   "cell_type": "markdown",
   "metadata": {
    "id": "Shi2a0_1hRV4"
   },
   "source": [
    "From above histplot,\n",
    "for applicant income, the range is 10 to 80000.\n",
    "The data is right skewed. Most applicant has income in the range of 10 to 10000\n",
    "for coapplicant income, income is in range 10 to 40000.\n",
    "The data is right skewed. Most coapplicant has income in the range 10 to 10000\n",
    "for loan amount feature , loan amount range is approximately 10 to 700.\n",
    "The distribution is right skewed. Most values lie in the range of 80 to 180."
   ]
  },
  {
   "cell_type": "markdown",
   "metadata": {
    "id": "hd4Q67Hidhpp"
   },
   "source": [
    "# Data Cleaning"
   ]
  },
  {
   "cell_type": "markdown",
   "metadata": {
    "id": "i8FFpbHk4Bm-"
   },
   "source": [
    "## Handling null values"
   ]
  },
  {
   "cell_type": "code",
   "execution_count": 17,
   "metadata": {
    "colab": {
     "base_uri": "https://localhost:8080/",
     "height": 243
    },
    "id": "IA_ECW7o4Bm_",
    "outputId": "c924924f-67d0-4b84-9592-8106a6ae30a0"
   },
   "outputs": [
    {
     "data": {
      "text/html": [
       "<div>\n",
       "<style scoped>\n",
       "    .dataframe tbody tr th:only-of-type {\n",
       "        vertical-align: middle;\n",
       "    }\n",
       "\n",
       "    .dataframe tbody tr th {\n",
       "        vertical-align: top;\n",
       "    }\n",
       "\n",
       "    .dataframe thead th {\n",
       "        text-align: right;\n",
       "    }\n",
       "</style>\n",
       "<table border=\"1\" class=\"dataframe\">\n",
       "  <thead>\n",
       "    <tr style=\"text-align: right;\">\n",
       "      <th></th>\n",
       "      <th>Gender</th>\n",
       "      <th>Married</th>\n",
       "      <th>Dependents</th>\n",
       "      <th>Education</th>\n",
       "      <th>Self_Employed</th>\n",
       "      <th>ApplicantIncome</th>\n",
       "      <th>CoapplicantIncome</th>\n",
       "      <th>LoanAmount</th>\n",
       "      <th>Loan_Amount_Term</th>\n",
       "      <th>Credit_History</th>\n",
       "      <th>Property_Area</th>\n",
       "      <th>Loan_Status</th>\n",
       "    </tr>\n",
       "  </thead>\n",
       "  <tbody>\n",
       "    <tr>\n",
       "      <th>0</th>\n",
       "      <td>Male</td>\n",
       "      <td>No</td>\n",
       "      <td>0.0</td>\n",
       "      <td>Graduate</td>\n",
       "      <td>No</td>\n",
       "      <td>5849</td>\n",
       "      <td>0.0</td>\n",
       "      <td>NaN</td>\n",
       "      <td>360.0</td>\n",
       "      <td>1.0</td>\n",
       "      <td>Urban</td>\n",
       "      <td>Y</td>\n",
       "    </tr>\n",
       "    <tr>\n",
       "      <th>1</th>\n",
       "      <td>Male</td>\n",
       "      <td>Yes</td>\n",
       "      <td>1.0</td>\n",
       "      <td>Graduate</td>\n",
       "      <td>No</td>\n",
       "      <td>4583</td>\n",
       "      <td>1508.0</td>\n",
       "      <td>128.0</td>\n",
       "      <td>360.0</td>\n",
       "      <td>1.0</td>\n",
       "      <td>Rural</td>\n",
       "      <td>N</td>\n",
       "    </tr>\n",
       "    <tr>\n",
       "      <th>2</th>\n",
       "      <td>Male</td>\n",
       "      <td>Yes</td>\n",
       "      <td>0.0</td>\n",
       "      <td>Graduate</td>\n",
       "      <td>Yes</td>\n",
       "      <td>3000</td>\n",
       "      <td>0.0</td>\n",
       "      <td>66.0</td>\n",
       "      <td>360.0</td>\n",
       "      <td>1.0</td>\n",
       "      <td>Urban</td>\n",
       "      <td>Y</td>\n",
       "    </tr>\n",
       "    <tr>\n",
       "      <th>3</th>\n",
       "      <td>Male</td>\n",
       "      <td>Yes</td>\n",
       "      <td>0.0</td>\n",
       "      <td>Not Graduate</td>\n",
       "      <td>No</td>\n",
       "      <td>2583</td>\n",
       "      <td>2358.0</td>\n",
       "      <td>120.0</td>\n",
       "      <td>360.0</td>\n",
       "      <td>1.0</td>\n",
       "      <td>Urban</td>\n",
       "      <td>Y</td>\n",
       "    </tr>\n",
       "    <tr>\n",
       "      <th>4</th>\n",
       "      <td>Male</td>\n",
       "      <td>No</td>\n",
       "      <td>0.0</td>\n",
       "      <td>Graduate</td>\n",
       "      <td>No</td>\n",
       "      <td>6000</td>\n",
       "      <td>0.0</td>\n",
       "      <td>141.0</td>\n",
       "      <td>360.0</td>\n",
       "      <td>1.0</td>\n",
       "      <td>Urban</td>\n",
       "      <td>Y</td>\n",
       "    </tr>\n",
       "  </tbody>\n",
       "</table>\n",
       "</div>"
      ],
      "text/plain": [
       "  Gender Married  Dependents     Education Self_Employed  ApplicantIncome  \\\n",
       "0   Male      No         0.0      Graduate            No             5849   \n",
       "1   Male     Yes         1.0      Graduate            No             4583   \n",
       "2   Male     Yes         0.0      Graduate           Yes             3000   \n",
       "3   Male     Yes         0.0  Not Graduate            No             2583   \n",
       "4   Male      No         0.0      Graduate            No             6000   \n",
       "\n",
       "   CoapplicantIncome  LoanAmount  Loan_Amount_Term  Credit_History  \\\n",
       "0                0.0         NaN             360.0             1.0   \n",
       "1             1508.0       128.0             360.0             1.0   \n",
       "2                0.0        66.0             360.0             1.0   \n",
       "3             2358.0       120.0             360.0             1.0   \n",
       "4                0.0       141.0             360.0             1.0   \n",
       "\n",
       "  Property_Area Loan_Status  \n",
       "0         Urban           Y  \n",
       "1         Rural           N  \n",
       "2         Urban           Y  \n",
       "3         Urban           Y  \n",
       "4         Urban           Y  "
      ]
     },
     "execution_count": 17,
     "metadata": {},
     "output_type": "execute_result"
    }
   ],
   "source": [
    "dataset.head(5)"
   ]
  },
  {
   "cell_type": "code",
   "execution_count": 18,
   "metadata": {
    "colab": {
     "base_uri": "https://localhost:8080/"
    },
    "id": "g1BatFfW4BnA",
    "outputId": "d8f0268e-a760-4ef8-83d1-0f73467c5feb"
   },
   "outputs": [
    {
     "data": {
      "text/plain": [
       "Gender               13\n",
       "Married               3\n",
       "Dependents           15\n",
       "Education             0\n",
       "Self_Employed        32\n",
       "ApplicantIncome       0\n",
       "CoapplicantIncome     0\n",
       "LoanAmount           22\n",
       "Loan_Amount_Term     14\n",
       "Credit_History       50\n",
       "Property_Area         0\n",
       "Loan_Status           0\n",
       "dtype: int64"
      ]
     },
     "execution_count": 18,
     "metadata": {},
     "output_type": "execute_result"
    }
   ],
   "source": [
    "# checking null values in dataset\n",
    "dataset.isnull().sum() "
   ]
  },
  {
   "cell_type": "code",
   "execution_count": 19,
   "metadata": {
    "id": "ZTili8ryEqmz"
   },
   "outputs": [],
   "source": [
    "#filling the null values of continuous features with the its mean\n",
    "dataset['ApplicantIncome'] = dataset['ApplicantIncome'].fillna(dataset['ApplicantIncome'].mean())\n",
    "dataset['CoapplicantIncome'] = dataset['CoapplicantIncome'].fillna(dataset['CoapplicantIncome'].mean())\n",
    "dataset['LoanAmount'] = dataset['LoanAmount'].fillna(dataset['LoanAmount'].mean())\n",
    "dataset['Loan_Amount_Term'] = dataset['Loan_Amount_Term'].fillna(dataset['Loan_Amount_Term'].mean())\n"
   ]
  },
  {
   "cell_type": "code",
   "execution_count": 20,
   "metadata": {
    "id": "HrDaDqM0Etss"
   },
   "outputs": [],
   "source": [
    "#filling the null values of categorical features with the its mode\n",
    "dataset ['Gender'] = dataset ['Gender'].fillna(dataset['Gender'].mode()[0])\n",
    "dataset ['Married'] = dataset ['Married'].fillna(dataset['Married'].mode()[0])\n",
    "dataset ['Dependents'] = dataset ['Dependents'].fillna(dataset['Dependents'].mode()[0])\n",
    "dataset ['Education'] = dataset ['Education'].fillna(dataset['Education'].mode()[0])\n",
    "dataset ['Self_Employed'] = dataset ['Self_Employed'].fillna(dataset['Self_Employed'].mode()[0])\n",
    "dataset['Credit_History'] = dataset['Credit_History'].fillna(dataset['Credit_History'].mode()[0])\n",
    "dataset ['Property_Area'] = dataset ['Property_Area'].fillna(dataset['Property_Area'].mode()[0])\n",
    "dataset ['Loan_Status'] = dataset ['Loan_Status'].fillna(dataset['Loan_Status'].mode()[0])"
   ]
  },
  {
   "cell_type": "code",
   "execution_count": 21,
   "metadata": {
    "colab": {
     "base_uri": "https://localhost:8080/"
    },
    "id": "bbG8hDCVBZ_4",
    "outputId": "48dc2c42-f3f8-46c1-90ff-f3201b71fd98"
   },
   "outputs": [
    {
     "data": {
      "text/plain": [
       "Gender               0\n",
       "Married              0\n",
       "Dependents           0\n",
       "Education            0\n",
       "Self_Employed        0\n",
       "ApplicantIncome      0\n",
       "CoapplicantIncome    0\n",
       "LoanAmount           0\n",
       "Loan_Amount_Term     0\n",
       "Credit_History       0\n",
       "Property_Area        0\n",
       "Loan_Status          0\n",
       "dtype: int64"
      ]
     },
     "execution_count": 21,
     "metadata": {},
     "output_type": "execute_result"
    }
   ],
   "source": [
    "#There are no null values in the dataset\n",
    "dataset.isnull().sum()"
   ]
  },
  {
   "cell_type": "code",
   "execution_count": 22,
   "metadata": {
    "colab": {
     "base_uri": "https://localhost:8080/",
     "height": 243
    },
    "id": "zPR39aIuFT0g",
    "outputId": "9df2d916-a68d-4ff8-bfc4-be4b1bf217eb"
   },
   "outputs": [
    {
     "data": {
      "text/html": [
       "<div>\n",
       "<style scoped>\n",
       "    .dataframe tbody tr th:only-of-type {\n",
       "        vertical-align: middle;\n",
       "    }\n",
       "\n",
       "    .dataframe tbody tr th {\n",
       "        vertical-align: top;\n",
       "    }\n",
       "\n",
       "    .dataframe thead th {\n",
       "        text-align: right;\n",
       "    }\n",
       "</style>\n",
       "<table border=\"1\" class=\"dataframe\">\n",
       "  <thead>\n",
       "    <tr style=\"text-align: right;\">\n",
       "      <th></th>\n",
       "      <th>Gender</th>\n",
       "      <th>Married</th>\n",
       "      <th>Dependents</th>\n",
       "      <th>Education</th>\n",
       "      <th>Self_Employed</th>\n",
       "      <th>ApplicantIncome</th>\n",
       "      <th>CoapplicantIncome</th>\n",
       "      <th>LoanAmount</th>\n",
       "      <th>Loan_Amount_Term</th>\n",
       "      <th>Credit_History</th>\n",
       "      <th>Property_Area</th>\n",
       "      <th>Loan_Status</th>\n",
       "    </tr>\n",
       "  </thead>\n",
       "  <tbody>\n",
       "    <tr>\n",
       "      <th>0</th>\n",
       "      <td>Male</td>\n",
       "      <td>No</td>\n",
       "      <td>0.0</td>\n",
       "      <td>Graduate</td>\n",
       "      <td>No</td>\n",
       "      <td>5849</td>\n",
       "      <td>0.0</td>\n",
       "      <td>146.412162</td>\n",
       "      <td>360.0</td>\n",
       "      <td>1.0</td>\n",
       "      <td>Urban</td>\n",
       "      <td>Y</td>\n",
       "    </tr>\n",
       "    <tr>\n",
       "      <th>1</th>\n",
       "      <td>Male</td>\n",
       "      <td>Yes</td>\n",
       "      <td>1.0</td>\n",
       "      <td>Graduate</td>\n",
       "      <td>No</td>\n",
       "      <td>4583</td>\n",
       "      <td>1508.0</td>\n",
       "      <td>128.000000</td>\n",
       "      <td>360.0</td>\n",
       "      <td>1.0</td>\n",
       "      <td>Rural</td>\n",
       "      <td>N</td>\n",
       "    </tr>\n",
       "    <tr>\n",
       "      <th>2</th>\n",
       "      <td>Male</td>\n",
       "      <td>Yes</td>\n",
       "      <td>0.0</td>\n",
       "      <td>Graduate</td>\n",
       "      <td>Yes</td>\n",
       "      <td>3000</td>\n",
       "      <td>0.0</td>\n",
       "      <td>66.000000</td>\n",
       "      <td>360.0</td>\n",
       "      <td>1.0</td>\n",
       "      <td>Urban</td>\n",
       "      <td>Y</td>\n",
       "    </tr>\n",
       "    <tr>\n",
       "      <th>3</th>\n",
       "      <td>Male</td>\n",
       "      <td>Yes</td>\n",
       "      <td>0.0</td>\n",
       "      <td>Not Graduate</td>\n",
       "      <td>No</td>\n",
       "      <td>2583</td>\n",
       "      <td>2358.0</td>\n",
       "      <td>120.000000</td>\n",
       "      <td>360.0</td>\n",
       "      <td>1.0</td>\n",
       "      <td>Urban</td>\n",
       "      <td>Y</td>\n",
       "    </tr>\n",
       "    <tr>\n",
       "      <th>4</th>\n",
       "      <td>Male</td>\n",
       "      <td>No</td>\n",
       "      <td>0.0</td>\n",
       "      <td>Graduate</td>\n",
       "      <td>No</td>\n",
       "      <td>6000</td>\n",
       "      <td>0.0</td>\n",
       "      <td>141.000000</td>\n",
       "      <td>360.0</td>\n",
       "      <td>1.0</td>\n",
       "      <td>Urban</td>\n",
       "      <td>Y</td>\n",
       "    </tr>\n",
       "  </tbody>\n",
       "</table>\n",
       "</div>"
      ],
      "text/plain": [
       "  Gender Married  Dependents     Education Self_Employed  ApplicantIncome  \\\n",
       "0   Male      No         0.0      Graduate            No             5849   \n",
       "1   Male     Yes         1.0      Graduate            No             4583   \n",
       "2   Male     Yes         0.0      Graduate           Yes             3000   \n",
       "3   Male     Yes         0.0  Not Graduate            No             2583   \n",
       "4   Male      No         0.0      Graduate            No             6000   \n",
       "\n",
       "   CoapplicantIncome  LoanAmount  Loan_Amount_Term  Credit_History  \\\n",
       "0                0.0  146.412162             360.0             1.0   \n",
       "1             1508.0  128.000000             360.0             1.0   \n",
       "2                0.0   66.000000             360.0             1.0   \n",
       "3             2358.0  120.000000             360.0             1.0   \n",
       "4                0.0  141.000000             360.0             1.0   \n",
       "\n",
       "  Property_Area Loan_Status  \n",
       "0         Urban           Y  \n",
       "1         Rural           N  \n",
       "2         Urban           Y  \n",
       "3         Urban           Y  \n",
       "4         Urban           Y  "
      ]
     },
     "execution_count": 22,
     "metadata": {},
     "output_type": "execute_result"
    }
   ],
   "source": [
    "#Top 5 rows of cleaned dataset\n",
    "dataset.head()"
   ]
  },
  {
   "cell_type": "markdown",
   "metadata": {
    "id": "k5MK1auu2sVW"
   },
   "source": [
    "## Categorical data quality report (After cleaning)"
   ]
  },
  {
   "cell_type": "code",
   "execution_count": 23,
   "metadata": {
    "colab": {
     "base_uri": "https://localhost:8080/",
     "height": 300
    },
    "id": "BMKmj0KI30kw",
    "outputId": "90c6d200-ad14-4dd3-a1bc-c1a39bc2fef3"
   },
   "outputs": [
    {
     "data": {
      "text/html": [
       "<div>\n",
       "<style scoped>\n",
       "    .dataframe tbody tr th:only-of-type {\n",
       "        vertical-align: middle;\n",
       "    }\n",
       "\n",
       "    .dataframe tbody tr th {\n",
       "        vertical-align: top;\n",
       "    }\n",
       "\n",
       "    .dataframe thead th {\n",
       "        text-align: right;\n",
       "    }\n",
       "</style>\n",
       "<table border=\"1\" class=\"dataframe\">\n",
       "  <thead>\n",
       "    <tr style=\"text-align: right;\">\n",
       "      <th></th>\n",
       "      <th>Categorical Feature</th>\n",
       "      <th>total</th>\n",
       "      <th>count</th>\n",
       "      <th>miss%</th>\n",
       "      <th>card</th>\n",
       "      <th>mode</th>\n",
       "      <th>mode freq</th>\n",
       "      <th>mode pct</th>\n",
       "      <th>2nd mode</th>\n",
       "      <th>2nd mode freq</th>\n",
       "      <th>2nd mode pct</th>\n",
       "    </tr>\n",
       "  </thead>\n",
       "  <tbody>\n",
       "    <tr>\n",
       "      <th>0</th>\n",
       "      <td>Gender</td>\n",
       "      <td>614</td>\n",
       "      <td>614</td>\n",
       "      <td>0.0</td>\n",
       "      <td>2</td>\n",
       "      <td>Male</td>\n",
       "      <td>502</td>\n",
       "      <td>81.758958</td>\n",
       "      <td>Female</td>\n",
       "      <td>112</td>\n",
       "      <td>18.241042</td>\n",
       "    </tr>\n",
       "    <tr>\n",
       "      <th>1</th>\n",
       "      <td>Married</td>\n",
       "      <td>614</td>\n",
       "      <td>614</td>\n",
       "      <td>0.0</td>\n",
       "      <td>2</td>\n",
       "      <td>Yes</td>\n",
       "      <td>401</td>\n",
       "      <td>65.309446</td>\n",
       "      <td>No</td>\n",
       "      <td>213</td>\n",
       "      <td>34.690554</td>\n",
       "    </tr>\n",
       "    <tr>\n",
       "      <th>2</th>\n",
       "      <td>Dependents</td>\n",
       "      <td>614</td>\n",
       "      <td>614</td>\n",
       "      <td>0.0</td>\n",
       "      <td>4</td>\n",
       "      <td>0</td>\n",
       "      <td>360</td>\n",
       "      <td>58.631922</td>\n",
       "      <td>1</td>\n",
       "      <td>102</td>\n",
       "      <td>16.612378</td>\n",
       "    </tr>\n",
       "    <tr>\n",
       "      <th>3</th>\n",
       "      <td>Education</td>\n",
       "      <td>614</td>\n",
       "      <td>614</td>\n",
       "      <td>0.0</td>\n",
       "      <td>2</td>\n",
       "      <td>Graduate</td>\n",
       "      <td>480</td>\n",
       "      <td>78.175896</td>\n",
       "      <td>Not Graduate</td>\n",
       "      <td>134</td>\n",
       "      <td>21.824104</td>\n",
       "    </tr>\n",
       "    <tr>\n",
       "      <th>4</th>\n",
       "      <td>Self_Employed</td>\n",
       "      <td>614</td>\n",
       "      <td>614</td>\n",
       "      <td>0.0</td>\n",
       "      <td>2</td>\n",
       "      <td>No</td>\n",
       "      <td>532</td>\n",
       "      <td>86.644951</td>\n",
       "      <td>Yes</td>\n",
       "      <td>82</td>\n",
       "      <td>13.355049</td>\n",
       "    </tr>\n",
       "    <tr>\n",
       "      <th>5</th>\n",
       "      <td>Credit_History</td>\n",
       "      <td>614</td>\n",
       "      <td>614</td>\n",
       "      <td>0.0</td>\n",
       "      <td>2</td>\n",
       "      <td>1</td>\n",
       "      <td>525</td>\n",
       "      <td>85.504886</td>\n",
       "      <td>0</td>\n",
       "      <td>89</td>\n",
       "      <td>14.495114</td>\n",
       "    </tr>\n",
       "    <tr>\n",
       "      <th>6</th>\n",
       "      <td>Property_Area</td>\n",
       "      <td>614</td>\n",
       "      <td>614</td>\n",
       "      <td>0.0</td>\n",
       "      <td>3</td>\n",
       "      <td>Semiurban</td>\n",
       "      <td>233</td>\n",
       "      <td>37.947883</td>\n",
       "      <td>Urban</td>\n",
       "      <td>202</td>\n",
       "      <td>32.899023</td>\n",
       "    </tr>\n",
       "    <tr>\n",
       "      <th>7</th>\n",
       "      <td>Loan_Status</td>\n",
       "      <td>614</td>\n",
       "      <td>614</td>\n",
       "      <td>0.0</td>\n",
       "      <td>2</td>\n",
       "      <td>Y</td>\n",
       "      <td>422</td>\n",
       "      <td>68.729642</td>\n",
       "      <td>N</td>\n",
       "      <td>192</td>\n",
       "      <td>31.270358</td>\n",
       "    </tr>\n",
       "  </tbody>\n",
       "</table>\n",
       "</div>"
      ],
      "text/plain": [
       "  Categorical Feature  total  count  miss%  card       mode  mode freq  \\\n",
       "0              Gender    614    614    0.0     2       Male        502   \n",
       "1             Married    614    614    0.0     2        Yes        401   \n",
       "2          Dependents    614    614    0.0     4          0        360   \n",
       "3           Education    614    614    0.0     2   Graduate        480   \n",
       "4       Self_Employed    614    614    0.0     2         No        532   \n",
       "5      Credit_History    614    614    0.0     2          1        525   \n",
       "6       Property_Area    614    614    0.0     3  Semiurban        233   \n",
       "7         Loan_Status    614    614    0.0     2          Y        422   \n",
       "\n",
       "    mode pct      2nd mode  2nd mode freq  2nd mode pct  \n",
       "0  81.758958        Female            112     18.241042  \n",
       "1  65.309446            No            213     34.690554  \n",
       "2  58.631922             1            102     16.612378  \n",
       "3  78.175896  Not Graduate            134     21.824104  \n",
       "4  86.644951           Yes             82     13.355049  \n",
       "5  85.504886             0             89     14.495114  \n",
       "6  37.947883         Urban            202     32.899023  \n",
       "7  68.729642             N            192     31.270358  "
      ]
     },
     "execution_count": 23,
     "metadata": {},
     "output_type": "execute_result"
    }
   ],
   "source": [
    "get_categorical_abt_table(dataset, categorical_features)"
   ]
  },
  {
   "cell_type": "markdown",
   "metadata": {
    "id": "KjkyvTSN22zL"
   },
   "source": [
    "## Continous data quality report (After Cleaning)"
   ]
  },
  {
   "cell_type": "code",
   "execution_count": 24,
   "metadata": {
    "colab": {
     "base_uri": "https://localhost:8080/",
     "height": 174
    },
    "id": "2MG_wPfJ34wK",
    "outputId": "a4d47385-bb4c-4adc-fd12-42ed9bdfecaf"
   },
   "outputs": [
    {
     "data": {
      "text/html": [
       "<div>\n",
       "<style scoped>\n",
       "    .dataframe tbody tr th:only-of-type {\n",
       "        vertical-align: middle;\n",
       "    }\n",
       "\n",
       "    .dataframe tbody tr th {\n",
       "        vertical-align: top;\n",
       "    }\n",
       "\n",
       "    .dataframe thead th {\n",
       "        text-align: right;\n",
       "    }\n",
       "</style>\n",
       "<table border=\"1\" class=\"dataframe\">\n",
       "  <thead>\n",
       "    <tr style=\"text-align: right;\">\n",
       "      <th></th>\n",
       "      <th>Continous Feature</th>\n",
       "      <th>total</th>\n",
       "      <th>count</th>\n",
       "      <th>miss%</th>\n",
       "      <th>card</th>\n",
       "      <th>min</th>\n",
       "      <th>1st qrt</th>\n",
       "      <th>mean</th>\n",
       "      <th>median</th>\n",
       "      <th>3rd qrt</th>\n",
       "      <th>max</th>\n",
       "      <th>std</th>\n",
       "    </tr>\n",
       "  </thead>\n",
       "  <tbody>\n",
       "    <tr>\n",
       "      <th>0</th>\n",
       "      <td>ApplicantIncome</td>\n",
       "      <td>614</td>\n",
       "      <td>614</td>\n",
       "      <td>0.0</td>\n",
       "      <td>505</td>\n",
       "      <td>150.0</td>\n",
       "      <td>2877.50</td>\n",
       "      <td>5403.459283</td>\n",
       "      <td>3812.5</td>\n",
       "      <td>5795.00</td>\n",
       "      <td>81000.0</td>\n",
       "      <td>6104.064857</td>\n",
       "    </tr>\n",
       "    <tr>\n",
       "      <th>1</th>\n",
       "      <td>CoapplicantIncome</td>\n",
       "      <td>614</td>\n",
       "      <td>614</td>\n",
       "      <td>0.0</td>\n",
       "      <td>287</td>\n",
       "      <td>0.0</td>\n",
       "      <td>0.00</td>\n",
       "      <td>1621.245603</td>\n",
       "      <td>1188.5</td>\n",
       "      <td>2297.25</td>\n",
       "      <td>41667.0</td>\n",
       "      <td>2923.864567</td>\n",
       "    </tr>\n",
       "    <tr>\n",
       "      <th>2</th>\n",
       "      <td>LoanAmount</td>\n",
       "      <td>614</td>\n",
       "      <td>614</td>\n",
       "      <td>0.0</td>\n",
       "      <td>204</td>\n",
       "      <td>9.0</td>\n",
       "      <td>100.25</td>\n",
       "      <td>146.412162</td>\n",
       "      <td>129.0</td>\n",
       "      <td>164.75</td>\n",
       "      <td>700.0</td>\n",
       "      <td>83.969005</td>\n",
       "    </tr>\n",
       "    <tr>\n",
       "      <th>3</th>\n",
       "      <td>Loan_Amount_Term</td>\n",
       "      <td>614</td>\n",
       "      <td>614</td>\n",
       "      <td>0.0</td>\n",
       "      <td>11</td>\n",
       "      <td>12.0</td>\n",
       "      <td>360.00</td>\n",
       "      <td>342.000000</td>\n",
       "      <td>360.0</td>\n",
       "      <td>360.00</td>\n",
       "      <td>480.0</td>\n",
       "      <td>64.320047</td>\n",
       "    </tr>\n",
       "  </tbody>\n",
       "</table>\n",
       "</div>"
      ],
      "text/plain": [
       "   Continous Feature  total  count  miss%  card    min  1st qrt         mean  \\\n",
       "0    ApplicantIncome    614    614    0.0   505  150.0  2877.50  5403.459283   \n",
       "1  CoapplicantIncome    614    614    0.0   287    0.0     0.00  1621.245603   \n",
       "2         LoanAmount    614    614    0.0   204    9.0   100.25   146.412162   \n",
       "3   Loan_Amount_Term    614    614    0.0    11   12.0   360.00   342.000000   \n",
       "\n",
       "   median  3rd qrt      max          std  \n",
       "0  3812.5  5795.00  81000.0  6104.064857  \n",
       "1  1188.5  2297.25  41667.0  2923.864567  \n",
       "2   129.0   164.75    700.0    83.969005  \n",
       "3   360.0   360.00    480.0    64.320047  "
      ]
     },
     "execution_count": 24,
     "metadata": {},
     "output_type": "execute_result"
    }
   ],
   "source": [
    "get_countinous_abt_table(dataset, continuous_features)"
   ]
  },
  {
   "cell_type": "markdown",
   "metadata": {
    "id": "5THPJ2KD0abT"
   },
   "source": [
    "No missing values can be seen after data cleaning."
   ]
  },
  {
   "cell_type": "markdown",
   "metadata": {
    "id": "OdMv-HPsZg32"
   },
   "source": [
    "# Encoding"
   ]
  },
  {
   "cell_type": "markdown",
   "metadata": {
    "id": "zh76Wb_zrBG2"
   },
   "source": [
    "## Encoding features with binary values"
   ]
  },
  {
   "cell_type": "code",
   "execution_count": 25,
   "metadata": {
    "colab": {
     "base_uri": "https://localhost:8080/"
    },
    "id": "NNvaQl4WZo1m",
    "outputId": "7ca58d8a-17a4-45e1-9f5e-cdc4cf716e58"
   },
   "outputs": [
    {
     "name": "stdout",
     "output_type": "stream",
     "text": [
      "<class 'pandas.core.frame.DataFrame'>\n",
      "RangeIndex: 614 entries, 0 to 613\n",
      "Data columns (total 12 columns):\n",
      " #   Column             Non-Null Count  Dtype  \n",
      "---  ------             --------------  -----  \n",
      " 0   Gender             614 non-null    object \n",
      " 1   Married            614 non-null    object \n",
      " 2   Dependents         614 non-null    float64\n",
      " 3   Education          614 non-null    object \n",
      " 4   Self_Employed      614 non-null    object \n",
      " 5   ApplicantIncome    614 non-null    int64  \n",
      " 6   CoapplicantIncome  614 non-null    float64\n",
      " 7   LoanAmount         614 non-null    float64\n",
      " 8   Loan_Amount_Term   614 non-null    float64\n",
      " 9   Credit_History     614 non-null    float64\n",
      " 10  Property_Area      614 non-null    object \n",
      " 11  Loan_Status        614 non-null    object \n",
      "dtypes: float64(5), int64(1), object(6)\n",
      "memory usage: 57.7+ KB\n"
     ]
    }
   ],
   "source": [
    "# checking data type of columns before encoding\n",
    "dataset.info()"
   ]
  },
  {
   "cell_type": "code",
   "execution_count": 26,
   "metadata": {
    "id": "6Jq9DeFsq_Sh"
   },
   "outputs": [],
   "source": [
    "le = LabelEncoder()\n",
    "dataset['Gender'] = le.fit_transform(dataset['Gender'].astype(str))\n",
    "dataset['Married'] = le.fit_transform(dataset['Married'].astype(str))\n",
    "dataset['Education'] = le.fit_transform(dataset['Education'].astype(str))\n",
    "dataset['Self_Employed'] = le.fit_transform(dataset['Self_Employed'].astype(str))\n",
    "dataset['Property_Area'] = le.fit_transform(dataset['Property_Area'].astype(str))\n",
    "dataset['Loan_Status'] = le.fit_transform(dataset['Loan_Status'].astype(str))"
   ]
  },
  {
   "cell_type": "code",
   "execution_count": 27,
   "metadata": {
    "colab": {
     "base_uri": "https://localhost:8080/"
    },
    "id": "kemF080H0u5d",
    "outputId": "d744d5a3-96f4-46c9-d29a-6ce5cbd53a3e"
   },
   "outputs": [
    {
     "name": "stdout",
     "output_type": "stream",
     "text": [
      "<class 'pandas.core.frame.DataFrame'>\n",
      "RangeIndex: 614 entries, 0 to 613\n",
      "Data columns (total 12 columns):\n",
      " #   Column             Non-Null Count  Dtype  \n",
      "---  ------             --------------  -----  \n",
      " 0   Gender             614 non-null    int64  \n",
      " 1   Married            614 non-null    int64  \n",
      " 2   Dependents         614 non-null    float64\n",
      " 3   Education          614 non-null    int64  \n",
      " 4   Self_Employed      614 non-null    int64  \n",
      " 5   ApplicantIncome    614 non-null    int64  \n",
      " 6   CoapplicantIncome  614 non-null    float64\n",
      " 7   LoanAmount         614 non-null    float64\n",
      " 8   Loan_Amount_Term   614 non-null    float64\n",
      " 9   Credit_History     614 non-null    float64\n",
      " 10  Property_Area      614 non-null    int64  \n",
      " 11  Loan_Status        614 non-null    int64  \n",
      "dtypes: float64(5), int64(7)\n",
      "memory usage: 57.7 KB\n"
     ]
    }
   ],
   "source": [
    "# checking if encoding convert the datatype of features\n",
    "dataset.info()"
   ]
  },
  {
   "cell_type": "markdown",
   "metadata": {
    "id": "cp_ikM2zks5w"
   },
   "source": [
    "# Correlation after data cleaning"
   ]
  },
  {
   "cell_type": "code",
   "execution_count": 28,
   "metadata": {
    "colab": {
     "base_uri": "https://localhost:8080/",
     "height": 445
    },
    "id": "ohIeF4weksIw",
    "outputId": "fef6406c-2172-4e93-de18-7f018fc58ff0"
   },
   "outputs": [
    {
     "data": {
      "text/html": [
       "<div>\n",
       "<style scoped>\n",
       "    .dataframe tbody tr th:only-of-type {\n",
       "        vertical-align: middle;\n",
       "    }\n",
       "\n",
       "    .dataframe tbody tr th {\n",
       "        vertical-align: top;\n",
       "    }\n",
       "\n",
       "    .dataframe thead th {\n",
       "        text-align: right;\n",
       "    }\n",
       "</style>\n",
       "<table border=\"1\" class=\"dataframe\">\n",
       "  <thead>\n",
       "    <tr style=\"text-align: right;\">\n",
       "      <th></th>\n",
       "      <th>Gender</th>\n",
       "      <th>Married</th>\n",
       "      <th>Dependents</th>\n",
       "      <th>Education</th>\n",
       "      <th>Self_Employed</th>\n",
       "      <th>ApplicantIncome</th>\n",
       "      <th>CoapplicantIncome</th>\n",
       "      <th>LoanAmount</th>\n",
       "      <th>Loan_Amount_Term</th>\n",
       "      <th>Credit_History</th>\n",
       "      <th>Property_Area</th>\n",
       "      <th>Loan_Status</th>\n",
       "    </tr>\n",
       "  </thead>\n",
       "  <tbody>\n",
       "    <tr>\n",
       "      <th>Gender</th>\n",
       "      <td>1.000000</td>\n",
       "      <td>0.364569</td>\n",
       "      <td>0.172914</td>\n",
       "      <td>0.045364</td>\n",
       "      <td>-0.000525</td>\n",
       "      <td>0.058809</td>\n",
       "      <td>0.082912</td>\n",
       "      <td>0.107930</td>\n",
       "      <td>-0.073567</td>\n",
       "      <td>0.009170</td>\n",
       "      <td>-0.025752</td>\n",
       "      <td>0.017987</td>\n",
       "    </tr>\n",
       "    <tr>\n",
       "      <th>Married</th>\n",
       "      <td>0.364569</td>\n",
       "      <td>1.000000</td>\n",
       "      <td>0.334216</td>\n",
       "      <td>0.012304</td>\n",
       "      <td>0.004489</td>\n",
       "      <td>0.051708</td>\n",
       "      <td>0.075948</td>\n",
       "      <td>0.147141</td>\n",
       "      <td>-0.100863</td>\n",
       "      <td>0.010938</td>\n",
       "      <td>0.004257</td>\n",
       "      <td>0.091478</td>\n",
       "    </tr>\n",
       "    <tr>\n",
       "      <th>Dependents</th>\n",
       "      <td>0.172914</td>\n",
       "      <td>0.334216</td>\n",
       "      <td>1.000000</td>\n",
       "      <td>0.055752</td>\n",
       "      <td>0.056798</td>\n",
       "      <td>0.118202</td>\n",
       "      <td>0.030430</td>\n",
       "      <td>0.163106</td>\n",
       "      <td>-0.101054</td>\n",
       "      <td>-0.040160</td>\n",
       "      <td>-0.000244</td>\n",
       "      <td>0.010118</td>\n",
       "    </tr>\n",
       "    <tr>\n",
       "      <th>Education</th>\n",
       "      <td>0.045364</td>\n",
       "      <td>0.012304</td>\n",
       "      <td>0.055752</td>\n",
       "      <td>1.000000</td>\n",
       "      <td>-0.010383</td>\n",
       "      <td>-0.140760</td>\n",
       "      <td>-0.062290</td>\n",
       "      <td>-0.166998</td>\n",
       "      <td>-0.077242</td>\n",
       "      <td>-0.073658</td>\n",
       "      <td>-0.065243</td>\n",
       "      <td>-0.085884</td>\n",
       "    </tr>\n",
       "    <tr>\n",
       "      <th>Self_Employed</th>\n",
       "      <td>-0.000525</td>\n",
       "      <td>0.004489</td>\n",
       "      <td>0.056798</td>\n",
       "      <td>-0.010383</td>\n",
       "      <td>1.000000</td>\n",
       "      <td>0.127180</td>\n",
       "      <td>-0.016100</td>\n",
       "      <td>0.115260</td>\n",
       "      <td>-0.033943</td>\n",
       "      <td>-0.001550</td>\n",
       "      <td>-0.030860</td>\n",
       "      <td>-0.003700</td>\n",
       "    </tr>\n",
       "    <tr>\n",
       "      <th>ApplicantIncome</th>\n",
       "      <td>0.058809</td>\n",
       "      <td>0.051708</td>\n",
       "      <td>0.118202</td>\n",
       "      <td>-0.140760</td>\n",
       "      <td>0.127180</td>\n",
       "      <td>1.000000</td>\n",
       "      <td>-0.116605</td>\n",
       "      <td>0.565620</td>\n",
       "      <td>-0.045242</td>\n",
       "      <td>-0.018615</td>\n",
       "      <td>-0.009500</td>\n",
       "      <td>-0.004710</td>\n",
       "    </tr>\n",
       "    <tr>\n",
       "      <th>CoapplicantIncome</th>\n",
       "      <td>0.082912</td>\n",
       "      <td>0.075948</td>\n",
       "      <td>0.030430</td>\n",
       "      <td>-0.062290</td>\n",
       "      <td>-0.016100</td>\n",
       "      <td>-0.116605</td>\n",
       "      <td>1.000000</td>\n",
       "      <td>0.187828</td>\n",
       "      <td>-0.059675</td>\n",
       "      <td>0.011134</td>\n",
       "      <td>0.010522</td>\n",
       "      <td>-0.059187</td>\n",
       "    </tr>\n",
       "    <tr>\n",
       "      <th>LoanAmount</th>\n",
       "      <td>0.107930</td>\n",
       "      <td>0.147141</td>\n",
       "      <td>0.163106</td>\n",
       "      <td>-0.166998</td>\n",
       "      <td>0.115260</td>\n",
       "      <td>0.565620</td>\n",
       "      <td>0.187828</td>\n",
       "      <td>1.000000</td>\n",
       "      <td>0.038801</td>\n",
       "      <td>-0.001431</td>\n",
       "      <td>-0.044776</td>\n",
       "      <td>-0.036416</td>\n",
       "    </tr>\n",
       "    <tr>\n",
       "      <th>Loan_Amount_Term</th>\n",
       "      <td>-0.073567</td>\n",
       "      <td>-0.100863</td>\n",
       "      <td>-0.101054</td>\n",
       "      <td>-0.077242</td>\n",
       "      <td>-0.033943</td>\n",
       "      <td>-0.045242</td>\n",
       "      <td>-0.059675</td>\n",
       "      <td>0.038801</td>\n",
       "      <td>1.000000</td>\n",
       "      <td>0.000432</td>\n",
       "      <td>-0.077620</td>\n",
       "      <td>-0.020974</td>\n",
       "    </tr>\n",
       "    <tr>\n",
       "      <th>Credit_History</th>\n",
       "      <td>0.009170</td>\n",
       "      <td>0.010938</td>\n",
       "      <td>-0.040160</td>\n",
       "      <td>-0.073658</td>\n",
       "      <td>-0.001550</td>\n",
       "      <td>-0.018615</td>\n",
       "      <td>0.011134</td>\n",
       "      <td>-0.001431</td>\n",
       "      <td>0.000432</td>\n",
       "      <td>1.000000</td>\n",
       "      <td>0.001963</td>\n",
       "      <td>0.540556</td>\n",
       "    </tr>\n",
       "    <tr>\n",
       "      <th>Property_Area</th>\n",
       "      <td>-0.025752</td>\n",
       "      <td>0.004257</td>\n",
       "      <td>-0.000244</td>\n",
       "      <td>-0.065243</td>\n",
       "      <td>-0.030860</td>\n",
       "      <td>-0.009500</td>\n",
       "      <td>0.010522</td>\n",
       "      <td>-0.044776</td>\n",
       "      <td>-0.077620</td>\n",
       "      <td>0.001963</td>\n",
       "      <td>1.000000</td>\n",
       "      <td>0.032112</td>\n",
       "    </tr>\n",
       "    <tr>\n",
       "      <th>Loan_Status</th>\n",
       "      <td>0.017987</td>\n",
       "      <td>0.091478</td>\n",
       "      <td>0.010118</td>\n",
       "      <td>-0.085884</td>\n",
       "      <td>-0.003700</td>\n",
       "      <td>-0.004710</td>\n",
       "      <td>-0.059187</td>\n",
       "      <td>-0.036416</td>\n",
       "      <td>-0.020974</td>\n",
       "      <td>0.540556</td>\n",
       "      <td>0.032112</td>\n",
       "      <td>1.000000</td>\n",
       "    </tr>\n",
       "  </tbody>\n",
       "</table>\n",
       "</div>"
      ],
      "text/plain": [
       "                     Gender   Married  Dependents  Education  Self_Employed  \\\n",
       "Gender             1.000000  0.364569    0.172914   0.045364      -0.000525   \n",
       "Married            0.364569  1.000000    0.334216   0.012304       0.004489   \n",
       "Dependents         0.172914  0.334216    1.000000   0.055752       0.056798   \n",
       "Education          0.045364  0.012304    0.055752   1.000000      -0.010383   \n",
       "Self_Employed     -0.000525  0.004489    0.056798  -0.010383       1.000000   \n",
       "ApplicantIncome    0.058809  0.051708    0.118202  -0.140760       0.127180   \n",
       "CoapplicantIncome  0.082912  0.075948    0.030430  -0.062290      -0.016100   \n",
       "LoanAmount         0.107930  0.147141    0.163106  -0.166998       0.115260   \n",
       "Loan_Amount_Term  -0.073567 -0.100863   -0.101054  -0.077242      -0.033943   \n",
       "Credit_History     0.009170  0.010938   -0.040160  -0.073658      -0.001550   \n",
       "Property_Area     -0.025752  0.004257   -0.000244  -0.065243      -0.030860   \n",
       "Loan_Status        0.017987  0.091478    0.010118  -0.085884      -0.003700   \n",
       "\n",
       "                   ApplicantIncome  CoapplicantIncome  LoanAmount  \\\n",
       "Gender                    0.058809           0.082912    0.107930   \n",
       "Married                   0.051708           0.075948    0.147141   \n",
       "Dependents                0.118202           0.030430    0.163106   \n",
       "Education                -0.140760          -0.062290   -0.166998   \n",
       "Self_Employed             0.127180          -0.016100    0.115260   \n",
       "ApplicantIncome           1.000000          -0.116605    0.565620   \n",
       "CoapplicantIncome        -0.116605           1.000000    0.187828   \n",
       "LoanAmount                0.565620           0.187828    1.000000   \n",
       "Loan_Amount_Term         -0.045242          -0.059675    0.038801   \n",
       "Credit_History           -0.018615           0.011134   -0.001431   \n",
       "Property_Area            -0.009500           0.010522   -0.044776   \n",
       "Loan_Status              -0.004710          -0.059187   -0.036416   \n",
       "\n",
       "                   Loan_Amount_Term  Credit_History  Property_Area  \\\n",
       "Gender                    -0.073567        0.009170      -0.025752   \n",
       "Married                   -0.100863        0.010938       0.004257   \n",
       "Dependents                -0.101054       -0.040160      -0.000244   \n",
       "Education                 -0.077242       -0.073658      -0.065243   \n",
       "Self_Employed             -0.033943       -0.001550      -0.030860   \n",
       "ApplicantIncome           -0.045242       -0.018615      -0.009500   \n",
       "CoapplicantIncome         -0.059675        0.011134       0.010522   \n",
       "LoanAmount                 0.038801       -0.001431      -0.044776   \n",
       "Loan_Amount_Term           1.000000        0.000432      -0.077620   \n",
       "Credit_History             0.000432        1.000000       0.001963   \n",
       "Property_Area             -0.077620        0.001963       1.000000   \n",
       "Loan_Status               -0.020974        0.540556       0.032112   \n",
       "\n",
       "                   Loan_Status  \n",
       "Gender                0.017987  \n",
       "Married               0.091478  \n",
       "Dependents            0.010118  \n",
       "Education            -0.085884  \n",
       "Self_Employed        -0.003700  \n",
       "ApplicantIncome      -0.004710  \n",
       "CoapplicantIncome    -0.059187  \n",
       "LoanAmount           -0.036416  \n",
       "Loan_Amount_Term     -0.020974  \n",
       "Credit_History        0.540556  \n",
       "Property_Area         0.032112  \n",
       "Loan_Status           1.000000  "
      ]
     },
     "execution_count": 28,
     "metadata": {},
     "output_type": "execute_result"
    }
   ],
   "source": [
    "corr = dataset.corr(method='pearson')\n",
    "corr"
   ]
  },
  {
   "cell_type": "markdown",
   "metadata": {
    "id": "QqAKz3g9biQ7"
   },
   "source": [
    "# Correlation heat map"
   ]
  },
  {
   "cell_type": "code",
   "execution_count": 29,
   "metadata": {
    "colab": {
     "base_uri": "https://localhost:8080/",
     "height": 374
    },
    "id": "Sk4pccLgkwJy",
    "outputId": "35d9182c-48eb-4108-9303-95b34ed649c9"
   },
   "outputs": [
    {
     "data": {
      "text/plain": [
       "<AxesSubplot:>"
      ]
     },
     "execution_count": 29,
     "metadata": {},
     "output_type": "execute_result"
    },
    {
     "data": {
      "image/png": "[encoded data removed]",
      "text/plain": [
       "<Figure size 432x288 with 2 Axes>"
      ]
     },
     "metadata": {
      "needs_background": "light"
     },
     "output_type": "display_data"
    }
   ],
   "source": [
    "sns.heatmap(corr, xticklabels = corr.columns.values, yticklabels=corr.columns.values)"
   ]
  },
  {
   "cell_type": "markdown",
   "metadata": {},
   "source": [
    "From above correlation map, we can see there is strong correlation between LoanAmount and ApplicantIncome, Credit_History and Loan_Status."
   ]
  },
  {
   "cell_type": "markdown",
   "metadata": {
    "id": "iRSXFof7cPww"
   },
   "source": [
    "# Dividing dataset into X as descriptive features and y as target feature"
   ]
  },
  {
   "cell_type": "code",
   "execution_count": 30,
   "metadata": {
    "id": "WbJmMRSM4BnB"
   },
   "outputs": [],
   "source": [
    "X = dataset.iloc[:, :-1].values # Gender to Property_Area \n",
    "y = dataset.iloc[:, -1].values # Loan_Status "
   ]
  },
  {
   "cell_type": "code",
   "execution_count": 31,
   "metadata": {
    "id": "-C4yngru022V"
   },
   "outputs": [],
   "source": [
    "# Using one hot encoding for Property_Area and Dependents features\n",
    "\n",
    "ct = ColumnTransformer(transformers=[('encoder', OneHotEncoder(), [2, 10])], remainder='passthrough')\n",
    "X = np.array(ct.fit_transform(X))"
   ]
  },
  {
   "cell_type": "markdown",
   "metadata": {
    "id": "4ENRwnV24BnF"
   },
   "source": [
    "# Splitting the dataset into the Training set and Test set"
   ]
  },
  {
   "cell_type": "code",
   "execution_count": 32,
   "metadata": {
    "id": "Kfq8tVvw4BnF"
   },
   "outputs": [],
   "source": [
    "X_train, X_test, y_train, y_test = train_test_split(X, y, test_size = 0.20, random_state = 0)"
   ]
  },
  {
   "cell_type": "markdown",
   "metadata": {
    "id": "B-Fck1n-4BnH"
   },
   "source": [
    "# Feature scaling"
   ]
  },
  {
   "cell_type": "code",
   "execution_count": 33,
   "metadata": {
    "id": "tg5o5g6M4BnH"
   },
   "outputs": [],
   "source": [
    "sc = StandardScaler()\n",
    "X_train = sc.fit_transform(X_train)\n",
    "X_test = sc.transform(X_test)\n"
   ]
  },
  {
   "cell_type": "markdown",
   "metadata": {},
   "source": [
    "Standardization technique is used so that all the values in our dataset centered around mean with unit standard deviation."
   ]
  },
  {
   "cell_type": "markdown",
   "metadata": {
    "id": "C9bkbY49cmnr"
   },
   "source": [
    "# Modeling"
   ]
  },
  {
   "cell_type": "code",
   "execution_count": 34,
   "metadata": {
    "id": "2JLYSyx9GU77"
   },
   "outputs": [],
   "source": [
    "final_evaluation = {\n",
    "    \"Model\":[],\n",
    "    \"accuracy_score\":[],\n",
    "    \"auc\":[],\n",
    "    \"F1 score\":[]\n",
    "}"
   ]
  },
  {
   "cell_type": "code",
   "execution_count": 35,
   "metadata": {
    "id": "gAmVB69W5Jo1"
   },
   "outputs": [],
   "source": [
    "# same random_state throughout process including K-fold\n",
    "_random_state = 4"
   ]
  },
  {
   "cell_type": "markdown",
   "metadata": {
    "id": "Qh8kGXJ1jNlk"
   },
   "source": [
    "## Decision Tree Classifier"
   ]
  },
  {
   "cell_type": "markdown",
   "metadata": {
    "id": "IRSckox0jRA8"
   },
   "source": [
    "### Training Decision Tree Classifier"
   ]
  },
  {
   "cell_type": "code",
   "execution_count": 36,
   "metadata": {
    "colab": {
     "base_uri": "https://localhost:8080/"
    },
    "id": "oVaHrpVonB7o",
    "outputId": "206c433c-283f-44de-cbfb-f7e9b4ca632a"
   },
   "outputs": [
    {
     "name": "stdout",
     "output_type": "stream",
     "text": [
      "Accuracy Score of Decision Tree Classifier  is 0.6910569105691057\n"
     ]
    }
   ],
   "source": [
    "# Training , Testing and Predcitng values using DecisionTree Classifier\n",
    "\n",
    "decision_tree = DecisionTreeClassifier(random_state=_random_state)\n",
    "decision_tree.fit(X_train, y_train)\n",
    "y_pred_decision_tree = decision_tree.predict(X_test)\n",
    "\n",
    "#Calculating accuracy Score for Model\n",
    "print(f'Accuracy Score of Decision Tree Classifier  is {accuracy_score(y_test, y_pred_decision_tree)}')\n",
    "\n",
    "final_evaluation[\"Model\"].append(\"DecisionTreeClassifier\")  "
   ]
  },
  {
   "cell_type": "markdown",
   "metadata": {
    "id": "eI2AF0gJjRHC"
   },
   "source": [
    "### Tuning Decision Tree Classifier"
   ]
  },
  {
   "cell_type": "code",
   "execution_count": 37,
   "metadata": {
    "colab": {
     "base_uri": "https://localhost:8080/"
    },
    "id": "s6KZvL71hMvl",
    "outputId": "f8593839-3630-4ced-bcab-fcdec7258264"
   },
   "outputs": [
    {
     "name": "stdout",
     "output_type": "stream",
     "text": [
      "Best score: 0.720985 using {'criterion': 'gini', 'max_features': 'auto', 'splitter': 'best'}\n"
     ]
    }
   ],
   "source": [
    "criterion=[\"gini\", \"entropy\"]\n",
    "splitter = [\"best\", \"random\"]\n",
    "max_features = [\"auto\", \"sqrt\", \"log2\"]\n",
    "grid = dict(criterion=criterion, splitter=splitter, max_features=max_features)\n",
    "model = DecisionTreeClassifier(random_state=_random_state)\n",
    "grid = GridSearchCV(estimator=model, param_grid=grid, scoring='accuracy')\n",
    "grid_result = grid.fit(X_train, y_train)\n",
    "print(\"Best score: %f using %s\" % (grid_result.best_score_, grid_result.best_params_))"
   ]
  },
  {
   "cell_type": "code",
   "execution_count": 38,
   "metadata": {
    "colab": {
     "base_uri": "https://localhost:8080/"
    },
    "id": "Zht95aIsnl0W",
    "outputId": "79358e89-8895-46ec-b283-7eca86cfef04"
   },
   "outputs": [
    {
     "name": "stdout",
     "output_type": "stream",
     "text": [
      "Accuracy Score of Tuned Decision Tree Classifier model is 0.7235772357723578\n"
     ]
    }
   ],
   "source": [
    "tuned_decision_tree = DecisionTreeClassifier(random_state=_random_state, criterion='gini', max_features='auto', splitter='best')\n",
    "tuned_decision_tree.fit(X_train, y_train)\n",
    "y_pred_tuned_decision_tree = tuned_decision_tree.predict(X_test)\n",
    "\n",
    "#Calculating accuracy score between test value and predictive value for target\n",
    "accuracy_tuned_decision_tree = accuracy_score(y_test, y_pred_tuned_decision_tree)\n",
    "\n",
    "#Printing the accuracy score for Decision Tree Classifier model\n",
    "print(f'Accuracy Score of Tuned Decision Tree Classifier model is {accuracy_tuned_decision_tree}')\n",
    "final_evaluation[\"Model\"].append(\"Tuned DecisionTreeClassifier\") \n"
   ]
  },
  {
   "cell_type": "markdown",
   "metadata": {
    "id": "GDkzeGZbjZse"
   },
   "source": [
    "### Stratefied K Fold Validation For Decision Tree"
   ]
  },
  {
   "cell_type": "code",
   "execution_count": 39,
   "metadata": {
    "colab": {
     "base_uri": "https://localhost:8080/"
    },
    "id": "Osz0Ufw3pyIZ",
    "outputId": "fa223cb9-cfca-4f04-96dc-f5915b922779"
   },
   "outputs": [
    {
     "name": "stdout",
     "output_type": "stream",
     "text": [
      "Accuracy Score of Decision Tree Classifier is 0.6938024790083965\n",
      "Accuracy Score of Tuned Decision Tree Classifier is 0.7246701319472211\n"
     ]
    }
   ],
   "source": [
    "warnings.filterwarnings(\"ignore\")\n",
    "accuracy_decision_tree = []\n",
    "accuracy_tuned_decision_tree = []\n",
    "cm_decision_tree = []\n",
    "cm_tunned_decision_tree = []\n",
    "f1_score_decision_tree = []\n",
    "f1_score_tunned_decision_tree = []\n",
    "roc = []\n",
    "roc_tuned = []\n",
    "\n",
    "skf = StratifiedKFold(n_splits = 5,random_state = _random_state, shuffle = True)\n",
    "\n",
    "skf.get_n_splits(X,y)\n",
    "for train_index, test_index in skf.split(X,y):\n",
    "  # print(\"Train : \",train_index, \"Validation : \",test_index)\n",
    "  X1_train, X1_test = X[train_index],X[test_index]\n",
    "  y1_train, y1_test = y[train_index],y[test_index]\n",
    "\n",
    "  decision_tree.fit(X1_train,y1_train)\n",
    "  decision_tree_predictions = decision_tree.predict(X1_test)\n",
    "  score = accuracy_score(decision_tree_predictions,y1_test)\n",
    "  accuracy_decision_tree.append(score)\n",
    "  cm_decision_tree = confusion_matrix(y1_test, decision_tree_predictions)\n",
    "  f1 = f1_score(y1_test, decision_tree_predictions)\n",
    "  f1_score_decision_tree.append(f1)\n",
    "  roc = roc_curve(y1_test, decision_tree_predictions)\n",
    "\n",
    "  tuned_decision_tree.fit(X1_train,y1_train)\n",
    "  tuned_decision_tree_predictions = tuned_decision_tree.predict(X1_test)\n",
    "  score = accuracy_score(tuned_decision_tree_predictions,y1_test)\n",
    "  accuracy_tuned_decision_tree.append(score)\n",
    "  cm_tunned_decision_tree = confusion_matrix(y1_test, tuned_decision_tree_predictions)\n",
    "  f1_score_tunned = f1_score(y1_test, tuned_decision_tree_predictions)\n",
    "  f1_score_tunned_decision_tree.append(f1_score_tunned)\n",
    "  roc_tuned = roc_curve(y1_test, tuned_decision_tree_predictions)\n",
    "\n",
    "accuracy_score_decision_tree = np.array(accuracy_decision_tree).mean()\n",
    "accuracy_score_tuned_decision_tree = np.array(accuracy_tuned_decision_tree).mean()\n",
    "f1_score_decision_tree = np.array(f1_score_decision_tree).mean()\n",
    "f1_score_tunned_decision_tree = np.array(f1_score_tunned_decision_tree).mean()\n",
    "\n",
    "print(f'Accuracy Score of Decision Tree Classifier is {accuracy_score_decision_tree}')\n",
    "print(f'Accuracy Score of Tuned Decision Tree Classifier is {accuracy_score_tuned_decision_tree}')"
   ]
  },
  {
   "cell_type": "markdown",
   "metadata": {
    "id": "vlAM8Hf8jjEa"
   },
   "source": [
    "### Evaluation"
   ]
  },
  {
   "cell_type": "markdown",
   "metadata": {
    "id": "AurY_PQvjmRL"
   },
   "source": [
    "#### Confusion Matrix"
   ]
  },
  {
   "cell_type": "code",
   "execution_count": 40,
   "metadata": {
    "colab": {
     "base_uri": "https://localhost:8080/",
     "height": 283
    },
    "id": "GpKuJjGJ2uVN",
    "outputId": "76d7d15f-409c-4b05-834c-4a6d60c2266f"
   },
   "outputs": [
    {
     "data": {
      "text/plain": [
       "<AxesSubplot:>"
      ]
     },
     "execution_count": 40,
     "metadata": {},
     "output_type": "execute_result"
    },
    {
     "data": {
      "image/png": "[encoded data removed]",
      "text/plain": [
       "<Figure size 432x288 with 2 Axes>"
      ]
     },
     "metadata": {
      "needs_background": "light"
     },
     "output_type": "display_data"
    }
   ],
   "source": [
    "sns.heatmap(cm_decision_tree, annot=True, fmt=\"d\")"
   ]
  },
  {
   "cell_type": "code",
   "execution_count": 41,
   "metadata": {
    "colab": {
     "base_uri": "https://localhost:8080/",
     "height": 287
    },
    "id": "QTuDHf3RwICa",
    "outputId": "14e3ce27-c1bf-43ee-945a-090a19a11910"
   },
   "outputs": [
    {
     "data": {
      "text/plain": [
       "<AxesSubplot:>"
      ]
     },
     "execution_count": 41,
     "metadata": {},
     "output_type": "execute_result"
    },
    {
     "data": {
      "image/png": "[encoded data removed]",
      "text/plain": [
       "<Figure size 432x288 with 2 Axes>"
      ]
     },
     "metadata": {
      "needs_background": "light"
     },
     "output_type": "display_data"
    }
   ],
   "source": [
    "sns.heatmap(cm_tunned_decision_tree, annot=True, fmt=\"d\")"
   ]
  },
  {
   "cell_type": "markdown",
   "metadata": {
    "id": "BnOe3kGZjoke"
   },
   "source": [
    "#### Overall Accuracy"
   ]
  },
  {
   "cell_type": "code",
   "execution_count": 42,
   "metadata": {
    "colab": {
     "base_uri": "https://localhost:8080/"
    },
    "id": "OcLd2VPi0t8D",
    "outputId": "a51cf5a9-752f-4791-d97e-2f45a44d9241"
   },
   "outputs": [
    {
     "name": "stdout",
     "output_type": "stream",
     "text": [
      "Accuracy Score of Decision Tree Classifier is 0.6938024790083965\n",
      "Accuracy Score of Tuned Decision Tree Classifier is 0.7246701319472211\n"
     ]
    }
   ],
   "source": [
    "print(f'Accuracy Score of Decision Tree Classifier is {accuracy_score_decision_tree}')\n",
    "final_evaluation[\"accuracy_score\"].append(accuracy_score_decision_tree) \n",
    "print(f'Accuracy Score of Tuned Decision Tree Classifier is {accuracy_score_tuned_decision_tree}')\n",
    "final_evaluation[\"accuracy_score\"].append(accuracy_score_tuned_decision_tree) "
   ]
  },
  {
   "cell_type": "markdown",
   "metadata": {
    "id": "NkjzkY1Gjoth"
   },
   "source": [
    "#### F1-Score"
   ]
  },
  {
   "cell_type": "code",
   "execution_count": 43,
   "metadata": {
    "colab": {
     "base_uri": "https://localhost:8080/"
    },
    "id": "10bITZpLHyVZ",
    "outputId": "ff70c697-9de3-48de-cf3a-b87e02c9f0fb"
   },
   "outputs": [
    {
     "name": "stdout",
     "output_type": "stream",
     "text": [
      "F1 score of decision tree: 0.7749787337269687\n"
     ]
    }
   ],
   "source": [
    "print(f\"F1 score of decision tree: {f1_score_decision_tree}\")\n",
    "final_evaluation[\"F1 score\"].append(f1_score_decision_tree) \n"
   ]
  },
  {
   "cell_type": "code",
   "execution_count": 44,
   "metadata": {
    "colab": {
     "base_uri": "https://localhost:8080/"
    },
    "id": "GkbYSFs404rR",
    "outputId": "4fc474b2-088a-4109-bf07-b9874429b7bb"
   },
   "outputs": [
    {
     "name": "stdout",
     "output_type": "stream",
     "text": [
      "F1 score of tunned decision tree: 0.798954308401741\n"
     ]
    }
   ],
   "source": [
    "print(f\"F1 score of tunned decision tree: {f1_score_tunned_decision_tree}\")\n",
    "final_evaluation[\"F1 score\"].append(f1_score_tunned_decision_tree) "
   ]
  },
  {
   "cell_type": "markdown",
   "metadata": {
    "id": "qvmmNFSVjo6m"
   },
   "source": [
    "#### ROC Curve and AUC"
   ]
  },
  {
   "cell_type": "code",
   "execution_count": 45,
   "metadata": {
    "colab": {
     "base_uri": "https://localhost:8080/",
     "height": 456
    },
    "id": "Q4rsyuuv1ZmO",
    "outputId": "0408b7a8-19fd-4e33-9e05-cf7d24e630d9"
   },
   "outputs": [
    {
     "data": {
      "image/png": "[encoded data removed]",
      "text/plain": [
       "<Figure size 500x500 with 1 Axes>"
      ]
     },
     "metadata": {
      "needs_background": "light"
     },
     "output_type": "display_data"
    }
   ],
   "source": [
    "decision_tree_fpr, decision_tree_tpr, threshold = roc\n",
    "auc_decision_tree = auc(decision_tree_fpr, decision_tree_tpr)\n",
    "\n",
    "tuned_decision_tree_fpr, tuned_decision_tree_tpr, threshold = roc_tuned\n",
    "tuned_auc_decision_tree = auc(tuned_decision_tree_fpr, tuned_decision_tree_tpr)\n",
    "\n",
    "plt.figure(figsize=(5, 5), dpi=100)\n",
    "plt.plot(decision_tree_fpr, decision_tree_tpr, linestyle='-', marker='.', label='Decision tree model(auc = %0.3f)' % auc_decision_tree)\n",
    "final_evaluation[\"auc\"].append(auc_decision_tree) \n",
    "plt.plot(tuned_decision_tree_fpr, tuned_decision_tree_tpr, marker='.', label='Tuned Decision tree model(auc = %0.3f)' % tuned_auc_decision_tree)\n",
    "final_evaluation[\"auc\"].append(tuned_auc_decision_tree) \n",
    "\n",
    "\n",
    "plt.xlabel('False Positive Rate -->')\n",
    "plt.ylabel('True Positive Rate -->')\n",
    "\n",
    "plt.legend()\n",
    "\n",
    "plt.show()"
   ]
  },
  {
   "cell_type": "code",
   "execution_count": 46,
   "metadata": {
    "colab": {
     "base_uri": "https://localhost:8080/"
    },
    "id": "oO0jhNhogVkI",
    "outputId": "5e8702bc-f139-429f-9670-37d2192c1167"
   },
   "outputs": [
    {
     "name": "stdout",
     "output_type": "stream",
     "text": [
      "Requirement already satisfied: scikit-plot in /Users/mohini/opt/anaconda3/lib/python3.8/site-packages (0.3.7)\n",
      "Requirement already satisfied: joblib>=0.10 in /Users/mohini/opt/anaconda3/lib/python3.8/site-packages (from scikit-plot) (0.17.0)\n",
      "Requirement already satisfied: scikit-learn>=0.18 in /Users/mohini/opt/anaconda3/lib/python3.8/site-packages (from scikit-plot) (0.23.2)\n",
      "Requirement already satisfied: scipy>=0.9 in /Users/mohini/opt/anaconda3/lib/python3.8/site-packages (from scikit-plot) (1.5.2)\n",
      "Requirement already satisfied: matplotlib>=1.4.0 in /Users/mohini/opt/anaconda3/lib/python3.8/site-packages (from scikit-plot) (3.3.2)\n",
      "Requirement already satisfied: threadpoolctl>=2.0.0 in /Users/mohini/opt/anaconda3/lib/python3.8/site-packages (from scikit-learn>=0.18->scikit-plot) (2.1.0)\n",
      "Requirement already satisfied: numpy>=1.13.3 in /Users/mohini/opt/anaconda3/lib/python3.8/site-packages (from scikit-learn>=0.18->scikit-plot) (1.19.2)\n",
      "Requirement already satisfied: certifi>=2020.06.20 in /Users/mohini/opt/anaconda3/lib/python3.8/site-packages (from matplotlib>=1.4.0->scikit-plot) (2020.6.20)\n",
      "Requirement already satisfied: kiwisolver>=1.0.1 in /Users/mohini/opt/anaconda3/lib/python3.8/site-packages (from matplotlib>=1.4.0->scikit-plot) (1.3.0)\n",
      "Requirement already satisfied: pillow>=6.2.0 in /Users/mohini/opt/anaconda3/lib/python3.8/site-packages (from matplotlib>=1.4.0->scikit-plot) (8.0.1)\n",
      "Requirement already satisfied: cycler>=0.10 in /Users/mohini/opt/anaconda3/lib/python3.8/site-packages (from matplotlib>=1.4.0->scikit-plot) (0.10.0)\n",
      "Requirement already satisfied: python-dateutil>=2.1 in /Users/mohini/opt/anaconda3/lib/python3.8/site-packages (from matplotlib>=1.4.0->scikit-plot) (2.8.1)\n",
      "Requirement already satisfied: pyparsing!=2.0.4,!=2.1.2,!=2.1.6,>=2.0.3 in /Users/mohini/opt/anaconda3/lib/python3.8/site-packages (from matplotlib>=1.4.0->scikit-plot) (2.4.7)\n",
      "Requirement already satisfied: six in /Users/mohini/opt/anaconda3/lib/python3.8/site-packages (from cycler>=0.10->matplotlib>=1.4.0->scikit-plot) (1.15.0)\n"
     ]
    }
   ],
   "source": [
    "!pip install scikit-plot"
   ]
  },
  {
   "cell_type": "markdown",
   "metadata": {
    "id": "fXPbb8fsefpv"
   },
   "source": [
    "#### Learning Curve"
   ]
  },
  {
   "cell_type": "code",
   "execution_count": 47,
   "metadata": {
    "colab": {
     "base_uri": "https://localhost:8080/",
     "height": 294
    },
    "id": "8IRzhRKXekLd",
    "outputId": "59cdea9e-a07c-4d87-e7c9-272f8c966821"
   },
   "outputs": [
    {
     "data": {
      "image/png": "[encoded data removed]",
      "text/plain": [
       "<Figure size 432x288 with 1 Axes>"
      ]
     },
     "metadata": {
      "needs_background": "light"
     },
     "output_type": "display_data"
    }
   ],
   "source": [
    "import scikitplot as skplt\n",
    "skplt.estimators.plot_learning_curve(decision_tree, X_train, y_train, title=\"Decision Tree Learning Curve\", \n",
    "                                     scoring = 'accuracy', cv=skf, random_state=_random_state)\n",
    "plt.show()"
   ]
  },
  {
   "cell_type": "markdown",
   "metadata": {
    "id": "5aOrZB0WKtF0"
   },
   "source": [
    "## Logistic Regression"
   ]
  },
  {
   "cell_type": "markdown",
   "metadata": {
    "id": "DS2zxyr5dS4T"
   },
   "source": [
    "### Training Logistic Regression"
   ]
  },
  {
   "cell_type": "code",
   "execution_count": 48,
   "metadata": {
    "colab": {
     "base_uri": "https://localhost:8080/"
    },
    "id": "I6n10R4bLGoR",
    "outputId": "311f2823-5a56-425a-e0b5-421e370af618"
   },
   "outputs": [
    {
     "data": {
      "text/plain": [
       "LogisticRegression(random_state=4)"
      ]
     },
     "execution_count": 48,
     "metadata": {},
     "output_type": "execute_result"
    }
   ],
   "source": [
    "logistic_classifier = LogisticRegression(random_state=_random_state)\n",
    "logistic_classifier.fit(X_train, y_train)"
   ]
  },
  {
   "cell_type": "code",
   "execution_count": 49,
   "metadata": {
    "colab": {
     "base_uri": "https://localhost:8080/"
    },
    "id": "OsaaiPFUIiFB",
    "outputId": "59feb217-1352-483f-f334-5cc1f0e47ba2"
   },
   "outputs": [
    {
     "name": "stdout",
     "output_type": "stream",
     "text": [
      "Accuracy Score of Logistic Regression model is 0.8373983739837398\n"
     ]
    }
   ],
   "source": [
    "y_pred_logistic = logistic_classifier.predict(X_test)\n",
    "print(f'Accuracy Score of Logistic Regression model is {accuracy_score(y_test, y_pred_logistic)}')\n",
    "final_evaluation[\"Model\"].append(\"LogisticRegression\")  "
   ]
  },
  {
   "cell_type": "markdown",
   "metadata": {
    "id": "Smnex1s-KvZr"
   },
   "source": [
    "### Tuning Logistic Regression "
   ]
  },
  {
   "cell_type": "code",
   "execution_count": 50,
   "metadata": {
    "colab": {
     "base_uri": "https://localhost:8080/"
    },
    "id": "T0LdJp3kQ_ny",
    "outputId": "c8192fa9-8193-427f-8403-9c5dff181651"
   },
   "outputs": [
    {
     "name": "stdout",
     "output_type": "stream",
     "text": [
      "Best score: 0.804432 using {'C': 100, 'penalty': 'l2', 'solver': 'newton-cg'}\n"
     ]
    }
   ],
   "source": [
    "solvers = ['newton-cg', 'lbfgs', 'liblinear']\n",
    "penalty = ['l2']\n",
    "c_values = [100, 10, 1.0, 0.1, 0.01]\n",
    "# c_values = [0.001, 0.01, 0.1, 1, 10]\n",
    "grid = dict(solver=solvers,penalty=penalty,C=c_values)\n",
    "model = LogisticRegression(random_state=_random_state)\n",
    "grid = GridSearchCV(estimator=model, param_grid=grid, scoring='accuracy')\n",
    "grid_result = grid.fit(X_train, y_train)\n",
    "print(\"Best score: %f using %s\" % (grid_result.best_score_, grid_result.best_params_))"
   ]
  },
  {
   "cell_type": "code",
   "execution_count": 51,
   "metadata": {
    "colab": {
     "base_uri": "https://localhost:8080/"
    },
    "id": "hWdOY6OwnvlX",
    "outputId": "4b886cb4-5e60-4026-f99b-c4e455139616"
   },
   "outputs": [
    {
     "name": "stdout",
     "output_type": "stream",
     "text": [
      "Accuracy Score of Tuned Logistic Regression model is 0.8373983739837398\n"
     ]
    }
   ],
   "source": [
    "tuned_logistic_model = LogisticRegression(random_state=_random_state, C=1, penalty='l2', solver='newton-cg')\n",
    "tuned_logistic_model\n",
    "tuned_logistic_model.fit(X_train, y_train)\n",
    "y_pred_tuned_logistic = tuned_logistic_model.predict(X_test)\n",
    "\n",
    "#Calculating accuracy score between test value and predictive value for target\n",
    "accuracy_tuned_logistic_model = accuracy_score(y_test, y_pred_tuned_logistic)\n",
    "\n",
    "#Printing the accuracy score for logistic regression model\n",
    "print(f'Accuracy Score of Tuned Logistic Regression model is {accuracy_tuned_logistic_model}')\n",
    "final_evaluation[\"Model\"].append(\"Tuned LogisticRegression\") "
   ]
  },
  {
   "cell_type": "markdown",
   "metadata": {
    "id": "rAAVhtSdLOFJ"
   },
   "source": [
    "### Stratefied K Fold Validation For Logistic Regression"
   ]
  },
  {
   "cell_type": "code",
   "execution_count": 52,
   "metadata": {
    "colab": {
     "base_uri": "https://localhost:8080/"
    },
    "id": "DqsUPCLblfAI",
    "outputId": "28fbcbf5-78da-4632-a26a-857a811f09e1"
   },
   "outputs": [
    {
     "name": "stdout",
     "output_type": "stream",
     "text": [
      "Accuracy Score of Logistic Regression is 0.7964814074370252\n",
      "Accuracy Score of Tuned Logistic Regression is 0.8111155537784887\n"
     ]
    }
   ],
   "source": [
    "warnings.filterwarnings(\"ignore\")\n",
    "accuracy_logistic = []\n",
    "accuracy_tuned_logistic = []\n",
    "cm_logistic = []\n",
    "cm_tunned_logistic = []\n",
    "f1_score_logistic = []\n",
    "f1_score_tunned_logistic = []\n",
    "roc = []\n",
    "roc_tuned = []\n",
    "\n",
    "skf = StratifiedKFold(n_splits = 5,random_state =_random_state, shuffle = True)\n",
    "\n",
    "skf.get_n_splits(X,y)\n",
    "for train_index, test_index in skf.split(X,y):\n",
    "  # print(\"Train : \",train_index, \"Validation : \",test_index)\n",
    "  X1_train, X1_test = X[train_index],X[test_index]\n",
    "  y1_train, y1_test = y[train_index],y[test_index]\n",
    "\n",
    "  logistic_classifier.fit(X1_train,y1_train)\n",
    "  logistic_predictions = logistic_classifier.predict(X1_test)\n",
    "  score = accuracy_score(logistic_predictions,y1_test)\n",
    "  accuracy_logistic.append(score)\n",
    "  cm_logistic = confusion_matrix(y1_test, logistic_predictions)\n",
    "  f1 = f1_score(y1_test, logistic_predictions)\n",
    "  f1_score_logistic.append(f1)\n",
    "  roc = roc_curve(y1_test, logistic_predictions)\n",
    "\n",
    "  tuned_logistic_model.fit(X1_train,y1_train)\n",
    "  tuned_logistic_predictions = tuned_logistic_model.predict(X1_test)\n",
    "  score = accuracy_score(tuned_logistic_predictions,y1_test)\n",
    "  accuracy_tuned_logistic.append(score)\n",
    "  cm_tunned_logistic = confusion_matrix(y1_test, tuned_logistic_predictions)\n",
    "  f1 = f1_score(y1_test, tuned_logistic_predictions)\n",
    "  f1_score_tunned_logistic.append(f1)\n",
    "  roc_tuned = roc_curve(y1_test, tuned_logistic_predictions)\n",
    "\n",
    "accuracy_score_logistic = np.array(accuracy_logistic).mean()\n",
    "accuracy_score_tuned_logistic = np.array(accuracy_tuned_logistic).mean()\n",
    "f1_score_logistic = np.array(f1_score_logistic).mean()\n",
    "f1_score_tunned_logistic = np.array(f1_score_tunned_logistic).mean()\n",
    "\n",
    "print(f'Accuracy Score of Logistic Regression is {accuracy_score_logistic}')\n",
    "print(f'Accuracy Score of Tuned Logistic Regression is {accuracy_score_tuned_logistic}')"
   ]
  },
  {
   "cell_type": "markdown",
   "metadata": {
    "id": "bZi9Ifq4eJv8"
   },
   "source": [
    "### Evaluation"
   ]
  },
  {
   "cell_type": "markdown",
   "metadata": {
    "id": "NuO9YPapgRVC"
   },
   "source": [
    "#### Confusion Matrix"
   ]
  },
  {
   "cell_type": "code",
   "execution_count": 53,
   "metadata": {
    "colab": {
     "base_uri": "https://localhost:8080/",
     "height": 283
    },
    "id": "HQDT-GVy7wmS",
    "outputId": "579a5913-4c70-4db5-aba2-b78c9a6120e1"
   },
   "outputs": [
    {
     "data": {
      "text/plain": [
       "<AxesSubplot:>"
      ]
     },
     "execution_count": 53,
     "metadata": {},
     "output_type": "execute_result"
    },
    {
     "data": {
      "image/png": "[encoded data removed]",
      "text/plain": [
       "<Figure size 432x288 with 2 Axes>"
      ]
     },
     "metadata": {
      "needs_background": "light"
     },
     "output_type": "display_data"
    }
   ],
   "source": [
    "sns.heatmap(cm_logistic, annot=True, fmt=\"d\")"
   ]
  },
  {
   "cell_type": "code",
   "execution_count": 54,
   "metadata": {
    "colab": {
     "base_uri": "https://localhost:8080/",
     "height": 283
    },
    "id": "lrxnKdGR70_N",
    "outputId": "3cc42b1e-36ef-4ae4-b2b7-2d965d2b1787"
   },
   "outputs": [
    {
     "data": {
      "text/plain": [
       "<AxesSubplot:>"
      ]
     },
     "execution_count": 54,
     "metadata": {},
     "output_type": "execute_result"
    },
    {
     "data": {
      "image/png": "[encoded data removed]",
      "text/plain": [
       "<Figure size 432x288 with 2 Axes>"
      ]
     },
     "metadata": {
      "needs_background": "light"
     },
     "output_type": "display_data"
    }
   ],
   "source": [
    "sns.heatmap(cm_tunned_logistic, annot=True, fmt=\"d\")"
   ]
  },
  {
   "cell_type": "markdown",
   "metadata": {
    "id": "qXrtsU95ga5r"
   },
   "source": [
    "#### Overall Accuracy"
   ]
  },
  {
   "cell_type": "code",
   "execution_count": 55,
   "metadata": {
    "colab": {
     "base_uri": "https://localhost:8080/"
    },
    "id": "ZuCMn9DN7xI6",
    "outputId": "314ba3ce-9747-4f92-a95a-6e7e6a3e1fae"
   },
   "outputs": [
    {
     "name": "stdout",
     "output_type": "stream",
     "text": [
      "Accuracy Score of Logistic Regression is 0.7964814074370252\n",
      "Accuracy Score of Tuned Logistic Regression is 0.8111155537784887\n"
     ]
    }
   ],
   "source": [
    "print(f'Accuracy Score of Logistic Regression is {accuracy_score_logistic}')\n",
    "final_evaluation[\"accuracy_score\"].append(accuracy_score_logistic) \n",
    "print(f'Accuracy Score of Tuned Logistic Regression is {accuracy_score_tuned_logistic}')\n",
    "final_evaluation['accuracy_score'].append(accuracy_score_tuned_logistic)"
   ]
  },
  {
   "cell_type": "markdown",
   "metadata": {
    "id": "IqZtMDv-fO0F"
   },
   "source": [
    "#### F1-Score"
   ]
  },
  {
   "cell_type": "code",
   "execution_count": 56,
   "metadata": {
    "colab": {
     "base_uri": "https://localhost:8080/"
    },
    "id": "NhWaA7-i7xlj",
    "outputId": "393d1259-e4c3-4ff7-c633-2b625d713df5"
   },
   "outputs": [
    {
     "name": "stdout",
     "output_type": "stream",
     "text": [
      "F1-Score of Logistic Regression is 0.8663952491115952\n"
     ]
    }
   ],
   "source": [
    "print(f'F1-Score of Logistic Regression is {f1_score_logistic}')\n",
    "final_evaluation[\"F1 score\"].append(f1_score_logistic) "
   ]
  },
  {
   "cell_type": "code",
   "execution_count": 57,
   "metadata": {
    "colab": {
     "base_uri": "https://localhost:8080/"
    },
    "id": "0_th6OuQ77qW",
    "outputId": "2ddf7f80-e438-4d5d-9065-57a217f83dff"
   },
   "outputs": [
    {
     "name": "stdout",
     "output_type": "stream",
     "text": [
      "F1-Score of Tuned Logistic Regression is 0.8773082216397263\n"
     ]
    }
   ],
   "source": [
    "print(f'F1-Score of Tuned Logistic Regression is {f1_score_tunned_logistic}')\n",
    "final_evaluation[\"F1 score\"].append(f1_score_tunned_logistic) "
   ]
  },
  {
   "cell_type": "markdown",
   "metadata": {
    "id": "_8BsF8u8eMap"
   },
   "source": [
    "#### ROC curve and AUC"
   ]
  },
  {
   "cell_type": "code",
   "execution_count": 58,
   "metadata": {
    "colab": {
     "base_uri": "https://localhost:8080/",
     "height": 456
    },
    "id": "0PWEsuJp7yE3",
    "outputId": "2f54decc-26c7-4030-842e-d80a58f94048"
   },
   "outputs": [
    {
     "data": {
      "image/png": "[encoded data removed]",
      "text/plain": [
       "<Figure size 500x500 with 1 Axes>"
      ]
     },
     "metadata": {
      "needs_background": "light"
     },
     "output_type": "display_data"
    }
   ],
   "source": [
    "logistic_fpr, logistic_tpr, threshold = roc\n",
    "auc_logistic = auc(logistic_fpr, logistic_tpr)\n",
    "\n",
    "tuned_logistic_fpr, tuned_logistic_tpr, threshold = roc_tuned\n",
    "tuned_auc_logistic = auc(tuned_logistic_fpr, tuned_logistic_tpr)\n",
    "\n",
    "plt.figure(figsize=(5, 5), dpi=100)\n",
    "plt.plot(logistic_fpr, logistic_tpr, linestyle='-', marker='.', label='Logistic model(auc = %0.3f)' % auc_logistic)\n",
    "plt.plot(tuned_logistic_fpr, tuned_logistic_tpr, marker='.', label='Tuned Logistic model(auc = %0.3f)' % tuned_auc_logistic)\n",
    "final_evaluation[\"auc\"].append(auc_logistic) \n",
    "final_evaluation[\"auc\"].append(tuned_auc_logistic) \n",
    "\n",
    "plt.xlabel('False Positive Rate -->')\n",
    "plt.ylabel('True Positive Rate -->')\n",
    "\n",
    "plt.legend()\n",
    "\n",
    "plt.show()"
   ]
  },
  {
   "cell_type": "markdown",
   "metadata": {
    "id": "bLKaLlUfexyG"
   },
   "source": [
    "#### Learning Curve"
   ]
  },
  {
   "cell_type": "code",
   "execution_count": 59,
   "metadata": {
    "colab": {
     "base_uri": "https://localhost:8080/",
     "height": 294
    },
    "id": "9T-ARsdoezv0",
    "outputId": "8966c13f-eca9-4273-a8f0-f2cc8ec1604c"
   },
   "outputs": [
    {
     "data": {
      "image/png": "[encoded data removed]",
      "text/plain": [
       "<Figure size 432x288 with 1 Axes>"
      ]
     },
     "metadata": {
      "needs_background": "light"
     },
     "output_type": "display_data"
    }
   ],
   "source": [
    "import scikitplot as skplt\n",
    "skplt.estimators.plot_learning_curve(logistic_classifier, X_train, y_train, title=\"Logistic Regression Learning Curve\",\n",
    "                                     scoring = 'accuracy', cv=skf, random_state=_random_state)\n",
    "plt.show()"
   ]
  },
  {
   "cell_type": "markdown",
   "metadata": {
    "id": "Y9ICgECF0pm0"
   },
   "source": [
    "Our main aim in model is to reduce the bias and variance. Thus, we need to find the variance and bias trade off. From the above learning curve we can see that model performance is increased as the training size increased. Also, the red line (training line) and green line (cross validation) line are meeting at some point which shows us the best performance of model than other models."
   ]
  },
  {
   "cell_type": "markdown",
   "metadata": {
    "id": "i3DsDHMBjIJk"
   },
   "source": [
    "## AdaBoost Classifier\n",
    "\n",
    "\n"
   ]
  },
  {
   "cell_type": "markdown",
   "metadata": {
    "id": "pRc2QMmekAp6"
   },
   "source": [
    "### Training AdaBoost Classifier"
   ]
  },
  {
   "cell_type": "code",
   "execution_count": 60,
   "metadata": {
    "colab": {
     "base_uri": "https://localhost:8080/"
    },
    "id": "N6skORXBl7VH",
    "outputId": "0ef2d9a9-e6e8-4551-ea1d-126c504cb50c"
   },
   "outputs": [
    {
     "name": "stdout",
     "output_type": "stream",
     "text": [
      "Accuracy Score of AdaBoost Classifier is 0.8048780487804879\n"
     ]
    }
   ],
   "source": [
    "# Training , Testing and Predcitng values using AdaBoost Classifier\n",
    "adaBoost_clf = AdaBoostClassifier(DecisionTreeClassifier(max_depth=2), n_estimators=500, algorithm=\"SAMME.R\", random_state =_random_state)\n",
    "adaBoost_clf.fit(X_train, y_train)\n",
    "y_pred_ada = adaBoost_clf.predict(X_test)\n",
    "#Calculating accuracy score between test value and predictive value for target\n",
    "accuracy_ada = accuracy_score(y_test, y_pred_ada)\n",
    "print(f'Accuracy Score of AdaBoost Classifier is {accuracy_ada}')\n",
    "final_evaluation[\"Model\"].append(\"AdaBoostClassifier\")  "
   ]
  },
  {
   "cell_type": "markdown",
   "metadata": {
    "id": "wCSNNC-DkAvc"
   },
   "source": [
    "### Tuning AdaBoost Classifier"
   ]
  },
  {
   "cell_type": "code",
   "execution_count": 61,
   "metadata": {
    "colab": {
     "base_uri": "https://localhost:8080/"
    },
    "id": "f-m2YEdPmLi2",
    "outputId": "9a4993d4-e634-4b0f-ffb6-fbd179830c2c"
   },
   "outputs": [
    {
     "name": "stdout",
     "output_type": "stream",
     "text": [
      "Best: 0.804432 using {'algorithm': 'SAMME', 'learning_rate': 0.0001, 'n_estimators': 10}\n"
     ]
    }
   ],
   "source": [
    "model = AdaBoostClassifier(random_state =_random_state)\n",
    "n_estimators = [10, 50, 100, 500, 1000, 5000]\n",
    "algorithm = ['SAMME', 'SAMME.R']\n",
    "learning_rate = [0.0001, 0.001, 0.01, 0.1, 1]\n",
    "# define grid search\n",
    "grid = dict(n_estimators = n_estimators, algorithm = algorithm, learning_rate = learning_rate )\n",
    "grid_search = GridSearchCV(estimator=model, param_grid=grid, n_jobs=-1, scoring='accuracy',error_score=0)\n",
    "grid_result = grid_search.fit(X_train, y_train)\n",
    "# summarize results\n",
    "print(\"Best: %f using %s\" % (grid_result.best_score_, grid_result.best_params_))"
   ]
  },
  {
   "cell_type": "code",
   "execution_count": 62,
   "metadata": {
    "colab": {
     "base_uri": "https://localhost:8080/"
    },
    "id": "8R2PhJH9Vpcp",
    "outputId": "df18c9e5-6c2b-4e94-8bc3-2fa5bfa36e99"
   },
   "outputs": [
    {
     "name": "stdout",
     "output_type": "stream",
     "text": [
      "Accuracy Score of Tuned AdaBoost model is 0.8292682926829268\n"
     ]
    }
   ],
   "source": [
    "adaBoost_clf_tuned = AdaBoostClassifier(random_state =_random_state, n_estimators=10, learning_rate = 0.0001, algorithm = 'SAMME')\n",
    "adaBoost_clf_tuned\n",
    "adaBoost_clf_tuned.fit(X_train, y_train)\n",
    "y_pred_tuned_ada = adaBoost_clf_tuned.predict(X_test)\n",
    "\n",
    "#Calculating accuracy score between test value and predictive value for target\n",
    "accuracy_tuned_adaBoost_model = accuracy_score(y_test, y_pred_tuned_ada)\n",
    "\n",
    "#Printing the accuracy score for ada boost model\n",
    "print(f'Accuracy Score of Tuned AdaBoost model is {accuracy_tuned_adaBoost_model}')\n",
    "final_evaluation[\"Model\"].append(\"Tuned AdaBoost\") "
   ]
  },
  {
   "cell_type": "markdown",
   "metadata": {
    "id": "ZaFcDN8tkNEV"
   },
   "source": [
    "### Stratefied K Fold Validation For AdaBoost Classifier"
   ]
  },
  {
   "cell_type": "code",
   "execution_count": 63,
   "metadata": {
    "colab": {
     "base_uri": "https://localhost:8080/"
    },
    "id": "6wWE-TFomQFQ",
    "outputId": "b9481025-9d8f-42df-be3b-976394e9b298"
   },
   "outputs": [
    {
     "name": "stdout",
     "output_type": "stream",
     "text": [
      "Accuracy Score of AdaBoost Classifier is 0.7116886578701853\n",
      "Accuracy Score of Tuned AdaBoost Classifier is 0.809489537518326\n"
     ]
    }
   ],
   "source": [
    "adaBoost_clf_tuned = AdaBoostClassifier(random_state =_random_state, n_estimators=10, learning_rate = 0.0001, algorithm = 'SAMME')\n",
    "\n",
    "warnings.filterwarnings(\"ignore\")\n",
    "accuracy_adaboost = []\n",
    "accuracy_tuned_ada = []\n",
    "cm_adaboost = []\n",
    "cm_tunned_adaboost = []\n",
    "f1_score_adaboost = []\n",
    "f1_score_tunned_adaboost = []\n",
    "roc = []\n",
    "roc_tuned = []\n",
    "\n",
    "skf = StratifiedKFold(n_splits = 5,random_state =_random_state, shuffle = True)\n",
    "\n",
    "skf.get_n_splits(X,y)\n",
    "for train_index, test_index in skf.split(X,y):\n",
    "  # print(\"Train : \",train_index, \"Validation : \",test_index)\n",
    "  X1_train, X1_test = X[train_index],X[test_index]\n",
    "  y1_train, y1_test = y[train_index],y[test_index]\n",
    "\n",
    "  adaBoost_clf.fit(X1_train,y1_train)\n",
    "  ada_predictions = adaBoost_clf.predict(X1_test)\n",
    "  score = accuracy_score(ada_predictions,y1_test)\n",
    "  accuracy_adaboost.append(score)\n",
    "  cm_adaboost = confusion_matrix(y1_test, ada_predictions)\n",
    "  f1 = f1_score(y1_test, ada_predictions)\n",
    "  f1_score_adaboost.append(f1)\n",
    "  roc = roc_curve(y1_test, ada_predictions)\n",
    "\n",
    "  adaBoost_clf_tuned.fit(X1_train,y1_train)\n",
    "  tuned_ada_predictions = adaBoost_clf_tuned.predict(X1_test)\n",
    "  score = accuracy_score(tuned_ada_predictions,y1_test)\n",
    "  accuracy_tuned_ada.append(score)\n",
    "  cm_tunned_adaboost = confusion_matrix(y1_test, tuned_ada_predictions)\n",
    "  f1 = f1_score(y1_test, tuned_ada_predictions)\n",
    "  f1_score_tunned_adaboost.append(f1)\n",
    "  roc_tuned = roc_curve(y1_test, tuned_ada_predictions)\n",
    "\n",
    "accuracy_score_adaboost = np.array(accuracy_adaboost).mean()\n",
    "accuracy_ada_tuned = np.array(accuracy_tuned_ada).mean()\n",
    "f1_score_adaboost = np.array(f1_score_adaboost).mean()\n",
    "f1_score_tunned_adaboost = np.array(f1_score_tunned_adaboost).mean()\n",
    "\n",
    "print(f'Accuracy Score of AdaBoost Classifier is {accuracy_score_adaboost}')\n",
    "print(f'Accuracy Score of Tuned AdaBoost Classifier is {accuracy_ada_tuned}')"
   ]
  },
  {
   "cell_type": "markdown",
   "metadata": {
    "id": "w4mUg0bmkTCW"
   },
   "source": [
    "### Evaluation "
   ]
  },
  {
   "cell_type": "markdown",
   "metadata": {
    "id": "XQUbAtKTkWIP"
   },
   "source": [
    "#### Confusion Matrix"
   ]
  },
  {
   "cell_type": "code",
   "execution_count": 64,
   "metadata": {
    "colab": {
     "base_uri": "https://localhost:8080/",
     "height": 283
    },
    "id": "TjAAbC4UhXpR",
    "outputId": "256111f1-9c61-4180-f735-ed1d3fd5e42e"
   },
   "outputs": [
    {
     "data": {
      "text/plain": [
       "<AxesSubplot:>"
      ]
     },
     "execution_count": 64,
     "metadata": {},
     "output_type": "execute_result"
    },
    {
     "data": {
      "image/png": "[encoded data removed]",
      "text/plain": [
       "<Figure size 432x288 with 2 Axes>"
      ]
     },
     "metadata": {
      "needs_background": "light"
     },
     "output_type": "display_data"
    }
   ],
   "source": [
    "sns.heatmap(cm_adaboost, annot=True, fmt=\"d\")"
   ]
  },
  {
   "cell_type": "code",
   "execution_count": 65,
   "metadata": {
    "colab": {
     "base_uri": "https://localhost:8080/",
     "height": 283
    },
    "id": "_yd5GCumhfS4",
    "outputId": "668605be-6a5c-4bab-c87a-a68bb36a924d"
   },
   "outputs": [
    {
     "data": {
      "text/plain": [
       "<AxesSubplot:>"
      ]
     },
     "execution_count": 65,
     "metadata": {},
     "output_type": "execute_result"
    },
    {
     "data": {
      "image/png": "[encoded data removed]",
      "text/plain": [
       "<Figure size 432x288 with 2 Axes>"
      ]
     },
     "metadata": {
      "needs_background": "light"
     },
     "output_type": "display_data"
    }
   ],
   "source": [
    "sns.heatmap(cm_tunned_adaboost, annot=True, fmt=\"d\")"
   ]
  },
  {
   "cell_type": "markdown",
   "metadata": {
    "id": "bqlkFW-kkTHy"
   },
   "source": [
    "#### Overall Accuracy"
   ]
  },
  {
   "cell_type": "code",
   "execution_count": 66,
   "metadata": {
    "colab": {
     "base_uri": "https://localhost:8080/"
    },
    "id": "gUFFmVxAhtrH",
    "outputId": "b4f2122b-f82c-4321-ce28-ff3c1eeade63"
   },
   "outputs": [
    {
     "name": "stdout",
     "output_type": "stream",
     "text": [
      "Accuracy Score of AdaBoost Clasifier is 0.7116886578701853\n",
      "Accuracy Score of Tuned ADA Boost  is 0.809489537518326\n"
     ]
    }
   ],
   "source": [
    "print(f'Accuracy Score of AdaBoost Clasifier is {accuracy_score_adaboost}')\n",
    "final_evaluation[\"accuracy_score\"].append(accuracy_score_adaboost) \n",
    "print(f'Accuracy Score of Tuned ADA Boost  is {accuracy_ada_tuned}')\n",
    "final_evaluation['accuracy_score'].append(accuracy_ada_tuned)"
   ]
  },
  {
   "cell_type": "markdown",
   "metadata": {
    "id": "coO_kfDvkTKN"
   },
   "source": [
    "#### F1-Score"
   ]
  },
  {
   "cell_type": "code",
   "execution_count": 67,
   "metadata": {
    "colab": {
     "base_uri": "https://localhost:8080/"
    },
    "id": "oCccyd8wkCNS",
    "outputId": "e93cce97-5546-40a8-e857-78df9f22b16f"
   },
   "outputs": [
    {
     "name": "stdout",
     "output_type": "stream",
     "text": [
      "F1 score of AdaBoost Clasifier : 0.7965611149499214\n"
     ]
    }
   ],
   "source": [
    "print(f\"F1 score of AdaBoost Clasifier : {f1_score_adaboost}\")\n",
    "final_evaluation[\"F1 score\"].append(f1_score_adaboost) "
   ]
  },
  {
   "cell_type": "code",
   "execution_count": 68,
   "metadata": {
    "colab": {
     "base_uri": "https://localhost:8080/"
    },
    "id": "RZ3bbWXgkJPE",
    "outputId": "b6f05906-3b7c-4c36-865e-02644cc59f32"
   },
   "outputs": [
    {
     "name": "stdout",
     "output_type": "stream",
     "text": [
      "F1-Score of Tuned AdaBoost Clasifier is 0.8766589292019982\n"
     ]
    }
   ],
   "source": [
    "print(f'F1-Score of Tuned AdaBoost Clasifier is {f1_score_tunned_adaboost}')\n",
    "final_evaluation[\"F1 score\"].append(f1_score_tunned_adaboost) "
   ]
  },
  {
   "cell_type": "markdown",
   "metadata": {
    "id": "0OJYVWyNkdF5"
   },
   "source": [
    "#### ROC curve and AUC"
   ]
  },
  {
   "cell_type": "code",
   "execution_count": 69,
   "metadata": {
    "colab": {
     "base_uri": "https://localhost:8080/",
     "height": 456
    },
    "id": "mEau7IAOk_6g",
    "outputId": "d0cf57e3-f4d3-4316-ac51-5c2c5890b6ed"
   },
   "outputs": [
    {
     "data": {
      "image/png": "[encoded data removed]",
      "text/plain": [
       "<Figure size 500x500 with 1 Axes>"
      ]
     },
     "metadata": {
      "needs_background": "light"
     },
     "output_type": "display_data"
    }
   ],
   "source": [
    "ada_fpr, ada_tpr, threshold = roc\n",
    "auc_ada = auc(ada_fpr, ada_tpr)\n",
    "\n",
    "tuned_ada_fpr, tuned_ada_tpr, threshold = roc_tuned\n",
    "tuned_auc_ada = auc(tuned_ada_fpr, tuned_ada_tpr)\n",
    "\n",
    "plt.figure(figsize=(5, 5), dpi=100)\n",
    "plt.plot(ada_fpr, ada_tpr, linestyle='-', marker='.', label='AdaBoost Model(auc = %0.3f)' % auc_ada)\n",
    "plt.plot(tuned_ada_fpr, tuned_ada_tpr, marker='.', label='Tuned AdaBoost model(auc = %0.3f)' % tuned_auc_ada)\n",
    "final_evaluation[\"auc\"].append(auc_ada) \n",
    "final_evaluation[\"auc\"].append(tuned_auc_ada) \n",
    "\n",
    "plt.xlabel('False Positive Rate -->')\n",
    "plt.ylabel('True Positive Rate -->')\n",
    "\n",
    "plt.legend()\n",
    "\n",
    "plt.show()"
   ]
  },
  {
   "cell_type": "markdown",
   "metadata": {
    "id": "cu5JNzVMe4Xe"
   },
   "source": [
    "#### Learning Curve"
   ]
  },
  {
   "cell_type": "code",
   "execution_count": 70,
   "metadata": {
    "colab": {
     "base_uri": "https://localhost:8080/",
     "height": 294
    },
    "id": "K8dMaaJce3o_",
    "outputId": "3874f54c-8664-47a3-f894-955ac55fd638"
   },
   "outputs": [
    {
     "data": {
      "image/png": "[encoded data removed]",
      "text/plain": [
       "<Figure size 432x288 with 1 Axes>"
      ]
     },
     "metadata": {
      "needs_background": "light"
     },
     "output_type": "display_data"
    }
   ],
   "source": [
    "import scikitplot as skplt\n",
    "skplt.estimators.plot_learning_curve(adaBoost_clf, X_train, y_train, title=\"AdaBoost Classifier Learning Curve\",\n",
    "                                     scoring = 'accuracy', cv=skf, random_state=_random_state)\n",
    "plt.show()"
   ]
  },
  {
   "cell_type": "markdown",
   "metadata": {
    "id": "1uYr-Nh4kdJZ"
   },
   "source": [
    "## Gradient Boosting Classifier"
   ]
  },
  {
   "cell_type": "markdown",
   "metadata": {
    "id": "yRJknOgQk-5c"
   },
   "source": [
    "### Training Gradient Boosting Classifier Classifier"
   ]
  },
  {
   "cell_type": "code",
   "execution_count": 71,
   "metadata": {
    "colab": {
     "base_uri": "https://localhost:8080/"
    },
    "id": "PPAWSvCbn6-e",
    "outputId": "df2d951f-9d87-4504-d920-0cd3c12c03b0"
   },
   "outputs": [
    {
     "data": {
      "text/plain": [
       "GradientBoostingClassifier(random_state=4)"
      ]
     },
     "execution_count": 71,
     "metadata": {},
     "output_type": "execute_result"
    }
   ],
   "source": [
    "gb_clf = GradientBoostingClassifier(random_state =_random_state)\n",
    "gb_clf.fit(X_train, y_train)\n"
   ]
  },
  {
   "cell_type": "code",
   "execution_count": 72,
   "metadata": {
    "colab": {
     "base_uri": "https://localhost:8080/"
    },
    "id": "NNOkwFJbb0uj",
    "outputId": "9716b97c-8016-48ac-b672-d48f41d6e5f2"
   },
   "outputs": [
    {
     "name": "stdout",
     "output_type": "stream",
     "text": [
      "Accuracy Score of Gradient Boosting classifier model is 0.7967479674796748\n"
     ]
    }
   ],
   "source": [
    "y_pred_gboost= gb_clf.predict(X_test)\n",
    "accuracy_gb_clf = accuracy_score(y_test, y_pred_gboost)\n",
    "print(f'Accuracy Score of Gradient Boosting classifier model is {accuracy_score(y_test, y_pred_gboost)}')\n",
    "final_evaluation[\"Model\"].append(\"GradientBoostingClassifier\")  "
   ]
  },
  {
   "cell_type": "markdown",
   "metadata": {
    "id": "wbjmjqAbk_AS"
   },
   "source": [
    "### Tuning Gradient Boosting Classifier Classifier"
   ]
  },
  {
   "cell_type": "code",
   "execution_count": 73,
   "metadata": {
    "colab": {
     "base_uri": "https://localhost:8080/"
    },
    "id": "FIfLN7rln8Gh",
    "outputId": "611955bb-4453-4705-aee3-7b1918c286d1"
   },
   "outputs": [
    {
     "name": "stdout",
     "output_type": "stream",
     "text": [
      "Best: 0.800371 using {'learning_rate': 0.001, 'max_depth': 3, 'n_estimators': 1000, 'subsample': 0.5}\n"
     ]
    }
   ],
   "source": [
    "n_estimators = [10, 100, 1000]\n",
    "learning_rate = [0.001, 0.01, 0.1]\n",
    "subsample = [0.5, 0.7, 1.0]\n",
    "max_depth = [3, 7, 9]\n",
    "\n",
    "\n",
    "model = GradientBoostingClassifier(random_state =_random_state)\n",
    "grid = dict(learning_rate = learning_rate, n_estimators = n_estimators, subsample = subsample, max_depth = max_depth)\n",
    "grid_search = GridSearchCV(estimator=model, param_grid=grid, n_jobs=-1, scoring='accuracy',error_score=0)\n",
    "grid_result = grid_search.fit(X_train, y_train)\n",
    "print(\"Best: %f using %s\" % (grid_result.best_score_, grid_result.best_params_))\n"
   ]
  },
  {
   "cell_type": "code",
   "execution_count": 74,
   "metadata": {
    "colab": {
     "base_uri": "https://localhost:8080/"
    },
    "id": "Q6nIrXNNoBC9",
    "outputId": "2d4dae05-c2cf-4d0c-c55c-cc3d4e772721"
   },
   "outputs": [
    {
     "name": "stdout",
     "output_type": "stream",
     "text": [
      "Accuracy Score of Tuned Gradient Boosting Classifier is 0.8292682926829268\n"
     ]
    }
   ],
   "source": [
    "# Tuning with stratified fold on one test set \n",
    "\n",
    "gb_clf_tuned = GradientBoostingClassifier(random_state =_random_state, n_estimators=1000,learning_rate=0.001,subsample=0.5,max_depth=3)\n",
    "gb_clf_tuned.fit(X_train, y_train)\n",
    "y_pred_tuned_gboost = gb_clf_tuned.predict(X_test)\n",
    "\n",
    "#Calculating accuracy score between test value and predictive value for target\n",
    "accuracy_gb_clf_tuned = accuracy_score(y_test, y_pred_tuned_gboost)\n",
    "\n",
    "#Caculating Ensemble Score for Model\n",
    "print(f'Accuracy Score of Tuned Gradient Boosting Classifier is {accuracy_gb_clf_tuned}')\n",
    "final_evaluation[\"Model\"].append(\"Tuned GradientBoostingClassifier\") "
   ]
  },
  {
   "cell_type": "markdown",
   "metadata": {
    "id": "0jUqIYL-k_Hf"
   },
   "source": [
    "### Stratefied K Fold Validation For Gradient Boosting Classifier Classifier"
   ]
  },
  {
   "cell_type": "code",
   "execution_count": 75,
   "metadata": {
    "colab": {
     "base_uri": "https://localhost:8080/"
    },
    "id": "6JOrFW11n-1G",
    "outputId": "bb046c04-2b21-462b-c7e9-a70c19c8e50b"
   },
   "outputs": [
    {
     "name": "stdout",
     "output_type": "stream",
     "text": [
      "Accuracy Score of Gradient Boosting Classifier is 0.7834466213514595\n",
      "Accuracy Score of Tuned Gradient Boosting Classifier is 0.8062375049980008\n"
     ]
    }
   ],
   "source": [
    "accuracy_gboost = []\n",
    "accuracy_tuned_gboost = []\n",
    "cm_gboost = []\n",
    "cm_tunned_gboost = []\n",
    "f1_score_gboost = []\n",
    "f1_score_tunned_gboost = []\n",
    "roc = []\n",
    "roc_tuned = []\n",
    "\n",
    "skf = StratifiedKFold(n_splits = 5,random_state = _random_state, shuffle = True)\n",
    "\n",
    "skf.get_n_splits(X,y)\n",
    "for train_index, test_index in skf.split(X,y):\n",
    "  X1_train, X1_test = X[train_index],X[test_index]\n",
    "  y1_train, y1_test = y[train_index],y[test_index]\n",
    "  # classifier.fit(X1_train,y1_train)\n",
    "  \n",
    "  gb_clf.fit(X1_train,y1_train)\n",
    "  gboost_predictions = gb_clf.predict(X1_test)\n",
    "  score = accuracy_score(gboost_predictions,y1_test)\n",
    "  accuracy_gboost.append(score)\n",
    "  cm_gboost = confusion_matrix(y1_test, gboost_predictions)\n",
    "  f1 = f1_score(y1_test, gboost_predictions)\n",
    "  f1_score_gboost.append(f1)\n",
    "  roc = roc_curve(y1_test, gboost_predictions)\n",
    "\n",
    "  gb_clf_tuned.fit(X1_train,y1_train)\n",
    "  tuned_gboost_predictions = gb_clf_tuned.predict(X1_test)\n",
    "  score = accuracy_score(tuned_gboost_predictions,y1_test)\n",
    "  accuracy_tuned_gboost.append(score)\n",
    "  cm_tunned_gboost = confusion_matrix(y1_test, tuned_gboost_predictions)\n",
    "  f1 = f1_score(y1_test, tuned_gboost_predictions)\n",
    "  f1_score_tunned_gboost.append(f1)\n",
    "  roc_tuned = roc_curve(y1_test, tuned_gboost_predictions)\n",
    "\n",
    "accuracy_gb_clf = np.array(accuracy_gboost).mean()\n",
    "accuracy_gb_clf_tuned = np.array(accuracy_tuned_gboost).mean()\n",
    "f1_score_gboost = np.array(f1_score_gboost).mean()\n",
    "f1_score_tunned_gboost = np.array(f1_score_tunned_gboost).mean()\n",
    "\n",
    "print(f'Accuracy Score of Gradient Boosting Classifier is {accuracy_gb_clf}')\n",
    "print(f'Accuracy Score of Tuned Gradient Boosting Classifier is {accuracy_gb_clf_tuned}')"
   ]
  },
  {
   "cell_type": "markdown",
   "metadata": {
    "id": "Vjqw0-mCkdMj"
   },
   "source": [
    "### Evaluation"
   ]
  },
  {
   "cell_type": "markdown",
   "metadata": {
    "id": "t9R1FgEUlX7Y"
   },
   "source": [
    "#### Confusion Matrix"
   ]
  },
  {
   "cell_type": "code",
   "execution_count": 76,
   "metadata": {
    "colab": {
     "base_uri": "https://localhost:8080/",
     "height": 285
    },
    "id": "RY3lN2L4dXpg",
    "outputId": "33b8ac2a-520b-49b5-fd53-629a368f9c7d"
   },
   "outputs": [
    {
     "data": {
      "text/plain": [
       "<AxesSubplot:>"
      ]
     },
     "execution_count": 76,
     "metadata": {},
     "output_type": "execute_result"
    },
    {
     "data": {
      "image/png": "[encoded data removed]",
      "text/plain": [
       "<Figure size 432x288 with 2 Axes>"
      ]
     },
     "metadata": {
      "needs_background": "light"
     },
     "output_type": "display_data"
    }
   ],
   "source": [
    "sns.heatmap(cm_gboost, annot=True, fmt=\"d\")"
   ]
  },
  {
   "cell_type": "code",
   "execution_count": 77,
   "metadata": {
    "colab": {
     "base_uri": "https://localhost:8080/",
     "height": 283
    },
    "id": "EXX4UIExdlw1",
    "outputId": "acb5e43f-52cb-4c78-eaa9-45b45d0b2faa"
   },
   "outputs": [
    {
     "data": {
      "text/plain": [
       "<AxesSubplot:>"
      ]
     },
     "execution_count": 77,
     "metadata": {},
     "output_type": "execute_result"
    },
    {
     "data": {
      "image/png": "[encoded data removed]",
      "text/plain": [
       "<Figure size 432x288 with 2 Axes>"
      ]
     },
     "metadata": {
      "needs_background": "light"
     },
     "output_type": "display_data"
    }
   ],
   "source": [
    "sns.heatmap(cm_tunned_gboost, annot=True, fmt=\"d\")"
   ]
  },
  {
   "cell_type": "markdown",
   "metadata": {
    "id": "6tXUmebvlYFW"
   },
   "source": [
    "#### Overall Accuracy"
   ]
  },
  {
   "cell_type": "code",
   "execution_count": 78,
   "metadata": {
    "colab": {
     "base_uri": "https://localhost:8080/"
    },
    "id": "_fredleXdpnY",
    "outputId": "baa6fbe9-cba8-434d-ec78-68c1388bb639"
   },
   "outputs": [
    {
     "name": "stdout",
     "output_type": "stream",
     "text": [
      "Accuracy Score of Gradient Boosting Classifier is 0.7834466213514595\n",
      "Accuracy Score of Tuned Gradient Boosting Classifier is 0.8062375049980008\n"
     ]
    }
   ],
   "source": [
    "print(f'Accuracy Score of Gradient Boosting Classifier is {accuracy_gb_clf}')\n",
    "final_evaluation['accuracy_score'].append(accuracy_gb_clf)\n",
    "print(f'Accuracy Score of Tuned Gradient Boosting Classifier is {accuracy_gb_clf_tuned}')\n",
    "final_evaluation['accuracy_score'].append(accuracy_gb_clf_tuned)"
   ]
  },
  {
   "cell_type": "markdown",
   "metadata": {
    "id": "3NkHGSVGlYOM"
   },
   "source": [
    "#### F1-Score"
   ]
  },
  {
   "cell_type": "code",
   "execution_count": 79,
   "metadata": {
    "colab": {
     "base_uri": "https://localhost:8080/"
    },
    "id": "CSAf55pEdsWM",
    "outputId": "4f4e182a-be4c-4039-c13b-ada696399ad7"
   },
   "outputs": [
    {
     "name": "stdout",
     "output_type": "stream",
     "text": [
      "F1-Score of Gradient Boosting Classifier is 0.8547121264182562\n"
     ]
    }
   ],
   "source": [
    "print(f'F1-Score of Gradient Boosting Classifier is {f1_score_gboost}')\n",
    "final_evaluation[\"F1 score\"].append(f1_score_gboost)"
   ]
  },
  {
   "cell_type": "code",
   "execution_count": 80,
   "metadata": {
    "colab": {
     "base_uri": "https://localhost:8080/"
    },
    "id": "lk8O7kmAdvkJ",
    "outputId": "ccbda88e-4a19-4a55-ce4c-8001a8426a59"
   },
   "outputs": [
    {
     "name": "stdout",
     "output_type": "stream",
     "text": [
      "F1-Score of Tuned Gradient Boosting Classifier is 0.8749104845983732\n"
     ]
    }
   ],
   "source": [
    "print(f'F1-Score of Tuned Gradient Boosting Classifier is {f1_score_tunned_gboost}')\n",
    "final_evaluation[\"F1 score\"].append(f1_score_tunned_gboost)"
   ]
  },
  {
   "cell_type": "markdown",
   "metadata": {
    "id": "3Zz56x42lYWA"
   },
   "source": [
    "#### ROC curve and AUC"
   ]
  },
  {
   "cell_type": "code",
   "execution_count": 81,
   "metadata": {
    "colab": {
     "base_uri": "https://localhost:8080/",
     "height": 607
    },
    "id": "JUfxuCxSfXFC",
    "outputId": "d20bea39-c1a3-4c08-cfd3-c5093c7208f0"
   },
   "outputs": [
    {
     "data": {
      "image/png": "[encoded data removed]",
      "text/plain": [
       "<Figure size 700x700 with 1 Axes>"
      ]
     },
     "metadata": {
      "needs_background": "light"
     },
     "output_type": "display_data"
    }
   ],
   "source": [
    "gboost_fpr, gboost_tpr, threshold = roc\n",
    "auc_gboost = auc(gboost_fpr, gboost_tpr)\n",
    "\n",
    "tuned_gboost_fpr, tuned_gboost_tpr, threshold = roc_tuned\n",
    "tuned_auc_gboost = auc(tuned_gboost_fpr, tuned_gboost_tpr)\n",
    "\n",
    "plt.figure(figsize=(7, 7), dpi=100)\n",
    "plt.plot(gboost_fpr, gboost_tpr, linestyle='-', marker='.', label='Gradient Boosting model(auc = %0.3f)' % auc_gboost)\n",
    "plt.plot(tuned_gboost_fpr, tuned_gboost_tpr, marker='.', label='Tuned Gradient Boosting model(auc = %0.3f)' % tuned_auc_gboost)\n",
    "final_evaluation[\"auc\"].append(auc_gboost) \n",
    "final_evaluation[\"auc\"].append(tuned_auc_gboost) \n",
    "\n",
    "plt.xlabel('False Positive Rate -->')\n",
    "plt.ylabel('True Positive Rate -->')\n",
    "\n",
    "plt.legend()\n",
    "\n",
    "plt.show()"
   ]
  },
  {
   "cell_type": "markdown",
   "metadata": {
    "id": "Cm2XDFVCe_51"
   },
   "source": [
    "#### Learning Curve"
   ]
  },
  {
   "cell_type": "code",
   "execution_count": 82,
   "metadata": {
    "colab": {
     "base_uri": "https://localhost:8080/",
     "height": 294
    },
    "id": "WKKuiWZbfAFG",
    "outputId": "88fbd4cf-7c32-455c-d93d-83c17a284214"
   },
   "outputs": [
    {
     "data": {
      "image/png": "[encoded data removed]",
      "text/plain": [
       "<Figure size 432x288 with 1 Axes>"
      ]
     },
     "metadata": {
      "needs_background": "light"
     },
     "output_type": "display_data"
    }
   ],
   "source": [
    "import scikitplot as skplt\n",
    "skplt.estimators.plot_learning_curve(gb_clf, X_train, y_train, title=\"Gradient Boosting Classifier Learning Curve\",\n",
    "                                     scoring = 'accuracy', cv=skf, random_state=_random_state)\n",
    "plt.show()"
   ]
  },
  {
   "cell_type": "markdown",
   "metadata": {
    "id": "qMU4ZIJlnKs4"
   },
   "source": [
    "# Model Comparison"
   ]
  },
  {
   "cell_type": "markdown",
   "metadata": {
    "id": "hvrspeGvFq_k"
   },
   "source": [
    "##ROC Curve Comparison"
   ]
  },
  {
   "cell_type": "code",
   "execution_count": 83,
   "metadata": {
    "colab": {
     "base_uri": "https://localhost:8080/",
     "height": 631
    },
    "id": "sVZdW_2JFqDA",
    "outputId": "78175d77-2d1b-4419-8edf-7a48f6ced5a6"
   },
   "outputs": [
    {
     "data": {
      "image/png": "[encoded data removed]",
      "text/plain": [
       "<Figure size 700x700 with 1 Axes>"
      ]
     },
     "metadata": {
      "needs_background": "light"
     },
     "output_type": "display_data"
    }
   ],
   "source": [
    "\n",
    "plt.figure(figsize=(7, 7), dpi=100)\n",
    "\n",
    "plt.plot(tuned_decision_tree_fpr, tuned_decision_tree_tpr, linestyle ='-' , \n",
    "         marker='.', label='Tuned Decision Tree Model(auc = %0.3f)' % tuned_auc_decision_tree)\n",
    "\n",
    "plt.plot(tuned_logistic_fpr, tuned_logistic_tpr, linestyle ='--' , marker='.',\n",
    "         label='Tuned Logistic Model(auc = %0.3f)' % tuned_auc_logistic)\n",
    "\n",
    "plt.plot(tuned_ada_fpr, tuned_ada_tpr, linestyle ='-.' , marker='.', \n",
    "         label='Tuned ADA Model(auc = %0.3f)' % tuned_auc_ada)\n",
    "\n",
    "plt.plot(tuned_gboost_fpr, tuned_gboost_tpr,linestyle =':', marker='.', \n",
    "         label='Tuned Gradient Boosting Model(auc = %0.3f)' % tuned_auc_gboost)\n",
    "\n",
    "plt.title('ROC Curve Comaprison for All Models')\n",
    "plt.xlabel('False Positive Rate -->')\n",
    "plt.ylabel('True Positive Rate -->')\n",
    "\n",
    "plt.legend()\n",
    "\n",
    "plt.show()"
   ]
  },
  {
   "cell_type": "markdown",
   "metadata": {
    "id": "W1mL9fyqLnHi"
   },
   "source": [
    "As per ROC and AUC curves we can see that the AUC value for 3 models - logistic model, ada boost, and gradient boosting have same AUC as 0.737"
   ]
  },
  {
   "cell_type": "code",
   "execution_count": 84,
   "metadata": {
    "colab": {
     "base_uri": "https://localhost:8080/",
     "height": 300
    },
    "id": "yilgvKM5I-TC",
    "outputId": "c66edcf5-6240-45ff-f250-b523024934eb"
   },
   "outputs": [
    {
     "data": {
      "text/html": [
       "<div>\n",
       "<style scoped>\n",
       "    .dataframe tbody tr th:only-of-type {\n",
       "        vertical-align: middle;\n",
       "    }\n",
       "\n",
       "    .dataframe tbody tr th {\n",
       "        vertical-align: top;\n",
       "    }\n",
       "\n",
       "    .dataframe thead th {\n",
       "        text-align: right;\n",
       "    }\n",
       "</style>\n",
       "<table border=\"1\" class=\"dataframe\">\n",
       "  <thead>\n",
       "    <tr style=\"text-align: right;\">\n",
       "      <th></th>\n",
       "      <th>Model</th>\n",
       "      <th>accuracy_score</th>\n",
       "      <th>auc</th>\n",
       "      <th>F1 score</th>\n",
       "    </tr>\n",
       "  </thead>\n",
       "  <tbody>\n",
       "    <tr>\n",
       "      <th>0</th>\n",
       "      <td>DecisionTreeClassifier</td>\n",
       "      <td>0.693802</td>\n",
       "      <td>0.665727</td>\n",
       "      <td>0.774979</td>\n",
       "    </tr>\n",
       "    <tr>\n",
       "      <th>1</th>\n",
       "      <td>Tuned DecisionTreeClassifier</td>\n",
       "      <td>0.724670</td>\n",
       "      <td>0.646617</td>\n",
       "      <td>0.798954</td>\n",
       "    </tr>\n",
       "    <tr>\n",
       "      <th>2</th>\n",
       "      <td>LogisticRegression</td>\n",
       "      <td>0.796481</td>\n",
       "      <td>0.736842</td>\n",
       "      <td>0.866395</td>\n",
       "    </tr>\n",
       "    <tr>\n",
       "      <th>3</th>\n",
       "      <td>Tuned LogisticRegression</td>\n",
       "      <td>0.811116</td>\n",
       "      <td>0.736842</td>\n",
       "      <td>0.877308</td>\n",
       "    </tr>\n",
       "    <tr>\n",
       "      <th>4</th>\n",
       "      <td>AdaBoostClassifier</td>\n",
       "      <td>0.711689</td>\n",
       "      <td>0.622494</td>\n",
       "      <td>0.796561</td>\n",
       "    </tr>\n",
       "    <tr>\n",
       "      <th>5</th>\n",
       "      <td>Tuned AdaBoost</td>\n",
       "      <td>0.809490</td>\n",
       "      <td>0.736842</td>\n",
       "      <td>0.876659</td>\n",
       "    </tr>\n",
       "    <tr>\n",
       "      <th>6</th>\n",
       "      <td>GradientBoostingClassifier</td>\n",
       "      <td>0.783447</td>\n",
       "      <td>0.732143</td>\n",
       "      <td>0.854712</td>\n",
       "    </tr>\n",
       "    <tr>\n",
       "      <th>7</th>\n",
       "      <td>Tuned GradientBoostingClassifier</td>\n",
       "      <td>0.806238</td>\n",
       "      <td>0.736842</td>\n",
       "      <td>0.874910</td>\n",
       "    </tr>\n",
       "  </tbody>\n",
       "</table>\n",
       "</div>"
      ],
      "text/plain": [
       "                              Model  accuracy_score       auc  F1 score\n",
       "0            DecisionTreeClassifier        0.693802  0.665727  0.774979\n",
       "1      Tuned DecisionTreeClassifier        0.724670  0.646617  0.798954\n",
       "2                LogisticRegression        0.796481  0.736842  0.866395\n",
       "3          Tuned LogisticRegression        0.811116  0.736842  0.877308\n",
       "4                AdaBoostClassifier        0.711689  0.622494  0.796561\n",
       "5                    Tuned AdaBoost        0.809490  0.736842  0.876659\n",
       "6        GradientBoostingClassifier        0.783447  0.732143  0.854712\n",
       "7  Tuned GradientBoostingClassifier        0.806238  0.736842  0.874910"
      ]
     },
     "execution_count": 84,
     "metadata": {},
     "output_type": "execute_result"
    }
   ],
   "source": [
    "final_eval = pd.DataFrame(final_evaluation)\n",
    "final_eval"
   ]
  },
  {
   "cell_type": "markdown",
   "metadata": {
    "id": "IokSRJ38nNiY"
   },
   "source": [
    "# Conclusion"
   ]
  },
  {
   "cell_type": "markdown",
   "metadata": {
    "id": "qGnXfrvDxHSU"
   },
   "source": [
    "As per the evaluation of all the models: Decision Tree Classifier, Logistic Regression, AdaBoost Classifier using metrics such as Accuracy Score, F1-Score, Confusion Matrix, Learning Curves, ROC, and AUC we can see that Logistic Regression Model performed the best among all the models, followed by AdaBoost classifier, GradientBoosting classifier and finally Decision Tree classifier."
   ]
  },
  {
   "cell_type": "code",
   "execution_count": null,
   "metadata": {
    "id": "Tf8PIHjLxIvd"
   },
   "outputs": [],
   "source": []
  }
 ],
 "metadata": {
  "colab": {
   "collapsed_sections": [],
   "name": "Loan_Prediction1_Exploration.ipynb",
   "provenance": [],
   "toc_visible": true
  },
  "kernelspec": {
   "display_name": "Python 3",
   "language": "python",
   "name": "python3"
  },
  "language_info": {
   "codemirror_mode": {
    "name": "ipython",
    "version": 3
   },
   "file_extension": ".py",
   "mimetype": "text/x-python",
   "name": "python",
   "nbconvert_exporter": "python",
   "pygments_lexer": "ipython3",
   "version": "3.8.5"
  }
 },
 "nbformat": 4,
 "nbformat_minor": 4
}
